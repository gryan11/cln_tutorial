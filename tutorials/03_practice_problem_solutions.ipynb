{
 "cells": [
  {
   "cell_type": "code",
   "execution_count": 1,
   "metadata": {},
   "outputs": [
    {
     "name": "stderr",
     "output_type": "stream",
     "text": [
      "/Users/gryan/miniconda3/envs/cln_course/lib/python3.7/site-packages/pysmt/walkers/generic.py:43: DeprecationWarning: Using or importing the ABCs from 'collections' instead of from 'collections.abc' is deprecated since Python 3.3,and in 3.9 it will stop working\n",
      "  if len(nodetypes) == 1 and isinstance(nodetypes[0], collections.Iterable):\n"
     ]
    }
   ],
   "source": [
    "from pysmt.shortcuts import read_smtlib\n",
    "import z3\n",
    "from glob import glob\n",
    "\n",
    "import torch\n",
    "import cln\n",
    "import numpy as np\n",
    "import matplotlib.pyplot as plt\n",
    "\n",
    "from tqdm import trange\n",
    "import pandas as pd"
   ]
  },
  {
   "cell_type": "markdown",
   "metadata": {},
   "source": [
    "## Setup\n",
    "first load problems and define generic training method"
   ]
  },
  {
   "cell_type": "code",
   "execution_count": 2,
   "metadata": {},
   "outputs": [
    {
     "data": {
      "text/plain": [
       "['../data/smtlib_problems/cbrt-problem-3-chunk-0035.smt2',\n",
       " '../data/smtlib_problems/cbrt-problem-3-chunk-0043.smt2',\n",
       " '../data/smtlib_problems/cbrt-problem-3-chunk-0071.smt2',\n",
       " '../data/smtlib_problems/cbrt-problem-3-chunk-0074.smt2']"
      ]
     },
     "execution_count": 2,
     "metadata": {},
     "output_type": "execute_result"
    }
   ],
   "source": [
    "data_dir = '../data/smtlib_problems/'\n",
    "smtlib_problems = sorted(glob(data_dir+'*'))\n",
    "smtlib_problems"
   ]
  },
  {
   "cell_type": "code",
   "execution_count": 3,
   "metadata": {},
   "outputs": [],
   "source": [
    "def train(model, x):\n",
    "    opt = torch.optim.Adam(params=[x] + list(model.parameters()), lr=0.25)\n",
    "    \n",
    "    # LR DECAY\n",
    "    scheduler = torch.optim.lr_scheduler.MultiplicativeLR(opt, lambda epoch: 0.99)\n",
    "    \n",
    "    loss_trace = []\n",
    "    for i in trange(1000): \n",
    "        opt.zero_grad()\n",
    "        \n",
    "        cln_out = model(x)\n",
    "        loss = 1 - cln_out\n",
    "        \n",
    "        loss_trace.append(loss.item())\n",
    "                    \n",
    "\n",
    "        loss.backward()\n",
    "        opt.step()\n",
    "        scheduler.step()\n",
    "                \n",
    "    return pd.DataFrame({'loss':loss_trace})"
   ]
  },
  {
   "cell_type": "markdown",
   "metadata": {},
   "source": [
    "## Problem 1:"
   ]
  },
  {
   "cell_type": "code",
   "execution_count": 4,
   "metadata": {},
   "outputs": [
    {
     "data": {
      "text/plain": [
       "'((! (skoZ <= ((-32/5 + (skoX * -1.0)) + (skoY * -1.0)))) & ((! (skoZ <= 0.0)) & ((! (skoY <= 0.0)) & (! (skoX <= 0.0)))))'"
      ]
     },
     "execution_count": 4,
     "metadata": {},
     "output_type": "execute_result"
    }
   ],
   "source": [
    "problem_id = 1\n",
    "root = read_smtlib(smtlib_problems[problem_id])\n",
    "root.serialize()"
   ]
  },
  {
   "cell_type": "code",
   "execution_count": 5,
   "metadata": {},
   "outputs": [
    {
     "data": {
      "text/plain": [
       "tensor(0.0100, dtype=torch.float64, grad_fn=<MinBackward0>)"
      ]
     },
     "execution_count": 5,
     "metadata": {},
     "output_type": "execute_result"
    }
   ],
   "source": [
    "'''\n",
    "((! (skoZ <= ((-32/5 + (skoX * -1.0)) + (skoY * -1.0)))) &\n",
    "    ((! (skoZ <= 0.0)) &\n",
    "        ((! (skoY <= 0.0)) &\n",
    "         (! (skoX <= 0.0)))))\n",
    "'''\n",
    "\n",
    "class CLNModel(torch.nn.Module):\n",
    "    def __init__(self, B):\n",
    "        super(CLNModel, self).__init__()\n",
    "        self.B = B\n",
    "        self.eps = 0.5\n",
    "        \n",
    "    def forward(self, x):\n",
    "        B = self.B\n",
    "        eps = self.eps\n",
    "        \n",
    "        B.data.clamp_(min=0.1)\n",
    "        \n",
    "        skoX = x[0]\n",
    "        skoY = x[1]\n",
    "        skoZ = x[2]\n",
    "        \n",
    "        \n",
    "        c1 = cln.neg(cln.le(skoZ - (-32/5 + (skoX * -1.0) + (skoY * -1.0)), B, eps))\n",
    "        c2 = cln.neg(cln.le(skoZ - 0.0, B, eps))\n",
    "        c3 = cln.neg(cln.le(skoY - 0.0, B, eps))\n",
    "        c4 = cln.neg(cln.le(skoX - 0.0, B, eps))\n",
    "        \n",
    "        \n",
    "        ycln = cln.godel_tnorm([c1, c2, c3, c4])\n",
    "        return ycln\n",
    "    \n",
    "B_param = torch.nn.Parameter(torch.tensor(0.5))\n",
    "model = CLNModel(B=B_param)\n",
    "\n",
    "x = torch.tensor(np.random.uniform(-10, 10, (3,)), requires_grad=True)\n",
    "model(x)"
   ]
  },
  {
   "cell_type": "code",
   "execution_count": 6,
   "metadata": {},
   "outputs": [
    {
     "name": "stderr",
     "output_type": "stream",
     "text": [
      "100%|██████████| 1000/1000 [00:01<00:00, 900.48it/s]\n"
     ]
    },
    {
     "data": {
      "text/plain": [
       "(tensor([6.2015, 6.7372, 6.2015], dtype=torch.float64, requires_grad=True),\n",
       " Parameter containing:\n",
       " tensor(1.4628, requires_grad=True))"
      ]
     },
     "execution_count": 6,
     "metadata": {},
     "output_type": "execute_result"
    },
    {
     "data": {
      "image/png": "[encoded data removed]",
      "text/plain": [
       "<Figure size 432x288 with 1 Axes>"
      ]
     },
     "metadata": {
      "needs_background": "light"
     },
     "output_type": "display_data"
    }
   ],
   "source": [
    "x = torch.tensor(np.random.uniform(-10, 10, (3,)), requires_grad=True)\n",
    "# x = torch.tensor([-10, -10, -10], dtype=torch.float, requires_grad=True)\n",
    "\n",
    "trace = train(model, x)\n",
    "plt.plot(trace.loss)\n",
    "x, B_param"
   ]
  },
  {
   "cell_type": "code",
   "execution_count": 7,
   "metadata": {},
   "outputs": [
    {
     "data": {
      "text/html": [
       "<b>sat</b>"
      ],
      "text/plain": [
       "sat"
      ]
     },
     "execution_count": 7,
     "metadata": {},
     "output_type": "execute_result"
    }
   ],
   "source": [
    "s = z3.Solver()\n",
    "s.from_file(smtlib_problems[problem_id])\n",
    "skoX = z3.Real('skoX')\n",
    "skoY = z3.Real('skoY')\n",
    "skoZ = z3.Real('skoZ')\n",
    "s.add(skoX == x[0].item() and skoY == x[1].item() and skoZ == x[2].item())\n",
    "s.check()"
   ]
  },
  {
   "cell_type": "markdown",
   "metadata": {},
   "source": [
    "## Problem 2:"
   ]
  },
  {
   "cell_type": "code",
   "execution_count": 8,
   "metadata": {},
   "outputs": [
    {
     "data": {
      "text/plain": [
       "'((0.0 <= skoX) & ((! (((1.0 + (skoX * -1.0)) + (skoY * -1.0)) <= skoZ)) & ((! (skoZ <= 0.0)) & ((! (skoY <= 0.0)) & (! (skoX <= 0.0))))))'"
      ]
     },
     "execution_count": 8,
     "metadata": {},
     "output_type": "execute_result"
    }
   ],
   "source": [
    "problem_id = 2\n",
    "root = read_smtlib(smtlib_problems[problem_id])\n",
    "root.serialize()"
   ]
  },
  {
   "cell_type": "code",
   "execution_count": 9,
   "metadata": {},
   "outputs": [
    {
     "data": {
      "text/plain": [
       "tensor(0.4938, grad_fn=<MinBackward0>)"
      ]
     },
     "execution_count": 9,
     "metadata": {},
     "output_type": "execute_result"
    }
   ],
   "source": [
    "'''\n",
    "((0.0 <= skoX) &\n",
    "((! (((1.0 + (skoX * -1.0)) + (skoY * -1.0)) <= skoZ)) &\n",
    "((! (skoZ <= 0.0)) &\n",
    "((! (skoY <= 0.0)) &\n",
    "(! (skoX <= 0.0))))))\n",
    "'''\n",
    "\n",
    "class CLNModel(torch.nn.Module):\n",
    "    def __init__(self, B):\n",
    "        super(CLNModel, self).__init__()\n",
    "        self.B = B\n",
    "        self.eps = 0.05 # SMALL EPSILON\n",
    "        \n",
    "    def forward(self, x):\n",
    "        B = self.B\n",
    "        eps = self.eps\n",
    "        \n",
    "        B.data.clamp_(min=0.1)\n",
    "        \n",
    "        skoX = x[0]\n",
    "        skoY = x[1]\n",
    "        skoZ = x[2]\n",
    "        \n",
    "        \n",
    "\n",
    "        c0 = cln.le(0.0 - skoX, B, eps)\n",
    "        c1 = cln.neg(cln.le((1.0 + (skoX * -1.0) + (skoY * -1.0)) - skoZ, B, eps))\n",
    "        c2 = cln.neg(cln.le(skoZ - 0.0, B, eps))\n",
    "        c3 = cln.neg(cln.le(skoY - 0.0, B, eps))\n",
    "        c4 = cln.neg(cln.le(skoX - 0.0, B, eps))\n",
    "        \n",
    "        ycln = cln.godel_tnorm([c0, c1, c2, c3, c4])\n",
    "        return ycln\n",
    "    \n",
    "B_param = torch.nn.Parameter(torch.tensor(0.5))\n",
    "model = CLNModel(B=B_param)\n",
    "\n",
    "x = torch.tensor([0,0,0], dtype=torch.float, requires_grad=True)\n",
    "model(x)"
   ]
  },
  {
   "cell_type": "code",
   "execution_count": 10,
   "metadata": {},
   "outputs": [
    {
     "name": "stderr",
     "output_type": "stream",
     "text": [
      "  8%|▊         | 84/1000 [00:00<00:01, 839.73it/s]"
     ]
    },
    {
     "name": "stdout",
     "output_type": "stream",
     "text": [
      "tensor([-2.5113,  2.3786, -6.9560], dtype=torch.float64, requires_grad=True)\n"
     ]
    },
    {
     "name": "stderr",
     "output_type": "stream",
     "text": [
      "100%|██████████| 1000/1000 [00:01<00:00, 834.67it/s]\n"
     ]
    },
    {
     "data": {
      "text/plain": [
       "(tensor([0.2500, 0.2500, 0.2500], dtype=torch.float64, requires_grad=True),\n",
       " Parameter containing:\n",
       " tensor(1.3053, requires_grad=True))"
      ]
     },
     "execution_count": 10,
     "metadata": {},
     "output_type": "execute_result"
    },
    {
     "data": {
      "image/png": "[encoded data removed]",
      "text/plain": [
       "<Figure size 432x288 with 1 Axes>"
      ]
     },
     "metadata": {
      "needs_background": "light"
     },
     "output_type": "display_data"
    }
   ],
   "source": [
    "x = torch.tensor(np.random.uniform(-10, 10, (3,)), requires_grad=True)\n",
    "# x = torch.tensor([-9.6020,  2.8949, -1.8912], requires_grad=True)\n",
    "# x = torch.tensor([-10, -10, -10], dtype=torch.float, requires_grad=True)\n",
    "print(x)\n",
    "trace = train(model, x)\n",
    "plt.plot(trace.loss)\n",
    "x, B_param"
   ]
  },
  {
   "cell_type": "code",
   "execution_count": 11,
   "metadata": {},
   "outputs": [
    {
     "data": {
      "text/html": [
       "<b>sat</b>"
      ],
      "text/plain": [
       "sat"
      ]
     },
     "execution_count": 11,
     "metadata": {},
     "output_type": "execute_result"
    }
   ],
   "source": [
    "s = z3.Solver()\n",
    "s.from_file(smtlib_problems[problem_id])\n",
    "skoX = z3.Real('skoX')\n",
    "skoY = z3.Real('skoY')\n",
    "skoZ = z3.Real('skoZ')\n",
    "s.add(skoX == x[0].item() and skoY == x[1].item() and skoZ == x[2].item())\n",
    "s.check()"
   ]
  },
  {
   "cell_type": "markdown",
   "metadata": {},
   "source": [
    "## Problem 3:\n"
   ]
  },
  {
   "cell_type": "code",
   "execution_count": 12,
   "metadata": {},
   "outputs": [
    {
     "data": {
      "text/plain": [
       "'((((1.0 + (skoX * -1.0)) + (skoY * -1.0)) <= skoZ) & ((skoX <= -1/2) & ((! (skoZ <= 0.0)) & ((! (skoY <= 0.0)) & (! (skoX <= 0.0))))))'"
      ]
     },
     "execution_count": 12,
     "metadata": {},
     "output_type": "execute_result"
    }
   ],
   "source": [
    "problem_id = 3\n",
    "root = read_smtlib(smtlib_problems[problem_id])\n",
    "root.serialize()"
   ]
  },
  {
   "cell_type": "code",
   "execution_count": 13,
   "metadata": {},
   "outputs": [
    {
     "name": "stdout",
     "output_type": "stream",
     "text": [
      "tensor([-2.4248e+00,  5.4539e+00, -8.7742e-04], dtype=torch.float64,\n",
      "       requires_grad=True) tensor(0.2249, dtype=torch.float64, grad_fn=<MinBackward0>)\n"
     ]
    }
   ],
   "source": [
    "'''\n",
    "((((1.0 + (skoX * -1.0)) + (skoY * -1.0)) <= skoZ) &\n",
    "((skoX <= -1/2) &\n",
    "((! (skoZ <= 0.0)) &\n",
    "((! (skoY <= 0.0)) &\n",
    "(! (skoX <= 0.0))))))\n",
    "'''\n",
    "\n",
    "class CLNModel(torch.nn.Module):\n",
    "    def __init__(self, B):\n",
    "        super(CLNModel, self).__init__()\n",
    "        self.B = B\n",
    "        self.eps = 0.05\n",
    "        \n",
    "    def forward(self, x):\n",
    "        B = self.B\n",
    "        eps = self.eps\n",
    "        \n",
    "        B.data.clamp_(min=0.1)\n",
    "        \n",
    "        skoX = x[0]\n",
    "        skoY = x[1]\n",
    "        skoZ = x[2]\n",
    "        \n",
    "        c0 = cln.neg(cln.le(((1.0 + (skoX * -1.0)) + (skoY * -1.0)) - skoZ, B, eps))\n",
    "        c1 = cln.le(skoX - (-1/2), B, eps)\n",
    "        c2 = cln.neg(cln.le(skoZ - 0.0, B, eps))\n",
    "        c3 = cln.neg(cln.le(skoY - 0.0, B, eps))\n",
    "        c4 = cln.neg(cln.le(skoX - 0.0, B, eps))\n",
    "        \n",
    "        \n",
    "        ycln = cln.godel_tnorm([c0, c1, c2, c3, c4])\n",
    "        return ycln\n",
    "    \n",
    "B_param = torch.nn.Parameter(torch.tensor(0.5))\n",
    "model = CLNModel(B=B_param)\n",
    "\n",
    "x = torch.tensor(np.random.uniform(-10, 10, (3,)), requires_grad=True)\n",
    "print(x, model(x))"
   ]
  },
  {
   "cell_type": "code",
   "execution_count": 14,
   "metadata": {},
   "outputs": [
    {
     "name": "stderr",
     "output_type": "stream",
     "text": [
      " 17%|█▋        | 169/1000 [00:00<00:00, 831.43it/s]"
     ]
    },
    {
     "name": "stdout",
     "output_type": "stream",
     "text": [
      "tensor([-1.4045, -9.8199, -0.2892], dtype=torch.float64, requires_grad=True)\n"
     ]
    },
    {
     "name": "stderr",
     "output_type": "stream",
     "text": [
      "100%|██████████| 1000/1000 [00:01<00:00, 833.42it/s]\n"
     ]
    },
    {
     "name": "stdout",
     "output_type": "stream",
     "text": [
      "x [-0.19999836  0.88687391 -0.00522714] B 0.09999665\n",
      "unsat\n"
     ]
    },
    {
     "data": {
      "image/png": "[encoded data removed]",
      "text/plain": [
       "<Figure size 432x288 with 1 Axes>"
      ]
     },
     "metadata": {
      "needs_background": "light"
     },
     "output_type": "display_data"
    }
   ],
   "source": [
    "x = torch.tensor(np.random.uniform(-10, 10, (3,)), requires_grad=True)\n",
    "print(x)\n",
    "trace = train(model, x)\n",
    "plt.plot(trace.loss)\n",
    "print('x', x.data.numpy(), 'B',B_param.data.numpy())\n",
    "\n",
    "s = z3.Solver()\n",
    "s.from_file(smtlib_problems[problem_id])\n",
    "skoX = z3.Real('skoX')\n",
    "skoY = z3.Real('skoY')\n",
    "skoZ = z3.Real('skoZ')\n",
    "s.add(skoX == x[0].item() and skoY == x[1].item() and skoZ == x[2].item())\n",
    "print(s.check())"
   ]
  },
  {
   "cell_type": "markdown",
   "metadata": {},
   "source": [
    "**This problem is unsat!**"
   ]
  },
  {
   "cell_type": "code",
   "execution_count": 15,
   "metadata": {},
   "outputs": [
    {
     "data": {
      "text/html": [
       "<b>unsat</b>"
      ],
      "text/plain": [
       "unsat"
      ]
     },
     "execution_count": 15,
     "metadata": {},
     "output_type": "execute_result"
    }
   ],
   "source": [
    "s = z3.Solver()\n",
    "s.from_file(smtlib_problems[problem_id])\n",
    "s.check()"
   ]
  },
  {
   "cell_type": "markdown",
   "metadata": {},
   "source": [
    "## Challenge Problems"
   ]
  },
  {
   "cell_type": "code",
   "execution_count": 16,
   "metadata": {},
   "outputs": [
    {
     "data": {
      "text/plain": [
       "['../data/challenge_problems/p0.smt2',\n",
       " '../data/challenge_problems/p1.smt2',\n",
       " '../data/challenge_problems/p2.smt2',\n",
       " '../data/challenge_problems/p3.smt2']"
      ]
     },
     "execution_count": 16,
     "metadata": {},
     "output_type": "execute_result"
    }
   ],
   "source": [
    "data_dir = '../data/challenge_problems/'\n",
    "challenge_problems = sorted(glob(data_dir+'*'))\n",
    "challenge_problems"
   ]
  },
  {
   "cell_type": "markdown",
   "metadata": {},
   "source": [
    "### Problem 0"
   ]
  },
  {
   "cell_type": "code",
   "execution_count": 17,
   "metadata": {},
   "outputs": [
    {
     "data": {
      "text/plain": [
       "'((0.0 <= skoY) & ((! (skoY = 0.0)) & ((! (pi <= 10157963/5000000)) & ((! (42515927/10000000 <= pi)) & ((! ((pi * 1/2) <= skoY)) & ((! (skoX <= 0.0)) & (! (skoY <= skoX))))))))'"
      ]
     },
     "execution_count": 17,
     "metadata": {},
     "output_type": "execute_result"
    }
   ],
   "source": [
    "problem_id = 0\n",
    "root = read_smtlib(challenge_problems[problem_id])\n",
    "root.serialize()"
   ]
  },
  {
   "cell_type": "code",
   "execution_count": 18,
   "metadata": {},
   "outputs": [],
   "source": [
    "class CLNModel(torch.nn.Module):\n",
    "    def __init__(self, B):\n",
    "        super(CLNModel, self).__init__()\n",
    "        self.B = B\n",
    "        self.eps = 0.05\n",
    "        \n",
    "    def forward(self, x):\n",
    "        B = self.B\n",
    "        eps = self.eps\n",
    "        \n",
    "        B.data.clamp_(min=0.1)\n",
    "        \n",
    "        skoX = x[0]\n",
    "        skoY = x[1]\n",
    "        pi = x[2]\n",
    "        \n",
    "        c0 = cln.le(0 - skoY, B, eps)\n",
    "        c1 = cln.neg(cln.eq(skoY - 0.0, B, eps))\n",
    "        c2 = cln.neg(cln.le(pi - 10157963/5000000, B, eps))\n",
    "        c3 = cln.neg(cln.le(42515927/10000000 - pi, B, eps))\n",
    "        c4 = cln.neg(cln.le(pi * 1/2 - skoY, B, eps))\n",
    "        c5 = cln.neg(cln.le(skoX - 0.0, B, eps))\n",
    "        c6 = cln.neg(cln.le(skoY - skoX, B, eps))\n",
    "        \n",
    "        \n",
    "        ycln = cln.godel_tnorm([c0, c1, c2, c3, c4, c5, c6])\n",
    "        return ycln\n",
    "    \n",
    "B_param = torch.nn.Parameter(torch.tensor(0.1))\n",
    "model = CLNModel(B=B_param)"
   ]
  },
  {
   "cell_type": "code",
   "execution_count": 19,
   "metadata": {},
   "outputs": [
    {
     "name": "stderr",
     "output_type": "stream",
     "text": [
      "  6%|▌         | 58/1000 [00:00<00:01, 576.96it/s]"
     ]
    },
    {
     "name": "stdout",
     "output_type": "stream",
     "text": [
      "tensor([0., 0., 0.], requires_grad=True)\n"
     ]
    },
    {
     "name": "stderr",
     "output_type": "stream",
     "text": [
      "100%|██████████| 1000/1000 [00:01<00:00, 608.53it/s]\n"
     ]
    },
    {
     "name": "stdout",
     "output_type": "stream",
     "text": [
      "x [0.6073681 1.2147428 3.6442204] B 7.12208\n",
      "sat\n"
     ]
    },
    {
     "data": {
      "image/png": "[encoded data removed]",
      "text/plain": [
       "<Figure size 432x288 with 1 Axes>"
      ]
     },
     "metadata": {
      "needs_background": "light"
     },
     "output_type": "display_data"
    }
   ],
   "source": [
    "# x = torch.tensor(np.random.uniform(-10, 10, (3,)), requires_grad=True)\n",
    "x = torch.tensor([0,0,0], dtype=torch.float, requires_grad=True)\n",
    "# x = torch.tensor([-7.8689,  6.3019,  2.9677], dtype=torch.float, requires_grad=True)\n",
    "print(x)\n",
    "trace = train(model, x)\n",
    "plt.plot(trace.loss)\n",
    "print('x', x.data.numpy(), 'B' ,B_param.data.numpy())\n",
    "\n",
    "s = z3.Solver()\n",
    "s.from_file(challenge_problems[problem_id])\n",
    "skoX = z3.Real('skoX')\n",
    "skoY = z3.Real('skoY')\n",
    "pi = z3.Real('pi')\n",
    "s.add(skoX == x[0].item() and skoY == x[1].item() and pi == x[2].item())\n",
    "print(s.check())"
   ]
  },
  {
   "cell_type": "markdown",
   "metadata": {},
   "source": [
    "### Problem 1"
   ]
  },
  {
   "cell_type": "code",
   "execution_count": 20,
   "metadata": {},
   "outputs": [
    {
     "data": {
      "text/plain": [
       "'((0.0 <= skoY) & ((! (skoY = 0.0)) & ((! (pi <= 15157963/5000000)) & ((! (32515927/10000000 <= pi)) & ((! ((pi * 1/2) <= skoY)) & ((! (skoX <= 0.0)) & (! (skoY <= skoX))))))))'"
      ]
     },
     "execution_count": 20,
     "metadata": {},
     "output_type": "execute_result"
    }
   ],
   "source": [
    "problem_id = 1\n",
    "root = read_smtlib(challenge_problems[problem_id])\n",
    "root.serialize()"
   ]
  },
  {
   "cell_type": "code",
   "execution_count": 21,
   "metadata": {},
   "outputs": [],
   "source": [
    "class CLNModel(torch.nn.Module):\n",
    "    def __init__(self, B):\n",
    "        super(CLNModel, self).__init__()\n",
    "        self.B = B\n",
    "        self.eps = 0.05\n",
    "        \n",
    "    def forward(self, x):\n",
    "        B = self.B\n",
    "        eps = self.eps\n",
    "        \n",
    "        B.data.clamp_(min=0.1)\n",
    "        \n",
    "        skoX = x[0]\n",
    "        skoY = x[1]\n",
    "        pi = x[2]\n",
    "        \n",
    "        c0 = cln.le(0 - skoY, B, eps)\n",
    "        c1 = cln.neg(cln.eq(skoY - 0.0, B, eps))\n",
    "        c2 = cln.neg(cln.le(pi - 15157963/5000000, B, eps))\n",
    "        c3 = cln.neg(cln.le(32515927/10000000 - pi, B, eps))\n",
    "        c4 = cln.neg(cln.le(pi * 1/2 - skoY, B, eps))\n",
    "        c5 = cln.neg(cln.le(skoX - 0.0, B, eps))\n",
    "        c6 = cln.neg(cln.le(skoY - skoX, B, eps))\n",
    "        \n",
    "        \n",
    "        ycln = cln.godel_tnorm([c0, c1, c2, c3, c4, c5, c6])\n",
    "        return ycln\n",
    "    \n",
    "B_param = torch.nn.Parameter(torch.tensor(0.1))\n",
    "model = CLNModel(B=B_param)"
   ]
  },
  {
   "cell_type": "code",
   "execution_count": 22,
   "metadata": {},
   "outputs": [
    {
     "name": "stderr",
     "output_type": "stream",
     "text": [
      " 13%|█▎        | 129/1000 [00:00<00:01, 630.96it/s]"
     ]
    },
    {
     "name": "stdout",
     "output_type": "stream",
     "text": [
      "tensor([0., 0., 0.], requires_grad=True)\n"
     ]
    },
    {
     "name": "stderr",
     "output_type": "stream",
     "text": [
      "100%|██████████| 1000/1000 [00:01<00:00, 626.60it/s]\n"
     ]
    },
    {
     "name": "stdout",
     "output_type": "stream",
     "text": [
      "x [0.55187917 1.139793   3.1415951 ] B 1.3390216\n",
      "sat\n"
     ]
    },
    {
     "data": {
      "image/png": "[encoded data removed]",
      "text/plain": [
       "<Figure size 432x288 with 1 Axes>"
      ]
     },
     "metadata": {
      "needs_background": "light"
     },
     "output_type": "display_data"
    }
   ],
   "source": [
    "# x = torch.tensor(np.random.uniform(-10, 10, (3,)), requires_grad=True)\n",
    "x = torch.tensor([0,0,0], dtype=torch.float, requires_grad=True)\n",
    "# x = torch.tensor([-7.8689,  6.3019,  2.9677], dtype=torch.float, requires_grad=True)\n",
    "print(x)\n",
    "trace = train(model, x)\n",
    "plt.plot(trace.loss)\n",
    "print('x', x.data.numpy(), 'B' ,B_param.data.numpy())\n",
    "\n",
    "s = z3.Solver()\n",
    "s.from_file(challenge_problems[problem_id])\n",
    "skoX = z3.Real('skoX')\n",
    "skoY = z3.Real('skoY')\n",
    "pi = z3.Real('pi')\n",
    "s.add(skoX == x[0].item() and skoY == x[1].item() and pi == x[2].item())\n",
    "print(s.check())"
   ]
  },
  {
   "cell_type": "markdown",
   "metadata": {},
   "source": [
    "### Problem 2"
   ]
  },
  {
   "cell_type": "code",
   "execution_count": 23,
   "metadata": {},
   "outputs": [
    {
     "data": {
      "text/plain": [
       "'((0.0 <= skoY) & ((! (skoY = 0.0)) & ((! (pi <= 15657963/5000000)) & ((! (31515927/10000000 <= pi)) & ((! ((pi * 1/2) <= skoY)) & ((! (skoX <= 0.0)) & (! (skoY <= skoX))))))))'"
      ]
     },
     "execution_count": 23,
     "metadata": {},
     "output_type": "execute_result"
    }
   ],
   "source": [
    "problem_id = 2\n",
    "root = read_smtlib(challenge_problems[problem_id])\n",
    "root.serialize()"
   ]
  },
  {
   "cell_type": "code",
   "execution_count": 24,
   "metadata": {},
   "outputs": [],
   "source": [
    "class CLNModel(torch.nn.Module):\n",
    "    def __init__(self, B):\n",
    "        super(CLNModel, self).__init__()\n",
    "        self.B = B\n",
    "        self.eps = 0.05\n",
    "        \n",
    "    def forward(self, x):\n",
    "        B = self.B\n",
    "        eps = self.eps\n",
    "        \n",
    "        B.data.clamp_(min=0.1)\n",
    "        \n",
    "        skoX = x[0]\n",
    "        skoY = x[1]\n",
    "        pi = x[2]\n",
    "        \n",
    "        c0 = cln.le(0 - skoY, B, eps)\n",
    "        c1 = cln.neg(cln.eq(skoY - 0.0, B, eps))\n",
    "        c2 = cln.neg(cln.le(pi - 15657963/5000000, B, eps))\n",
    "        c3 = cln.neg(cln.le(31515927/10000000 - pi, B, eps))\n",
    "        c4 = cln.neg(cln.le(pi * 1/2 - skoY, B, eps))\n",
    "        c5 = cln.neg(cln.le(skoX - 0.0, B, eps))\n",
    "        c6 = cln.neg(cln.le(skoY - skoX, B, eps))\n",
    "        \n",
    "        \n",
    "        ycln = cln.godel_tnorm([c0, c1, c2, c3, c4, c5, c6])\n",
    "        return ycln\n",
    "    \n",
    "B_param = torch.nn.Parameter(torch.tensor(0.1))\n",
    "model = CLNModel(B=B_param)"
   ]
  },
  {
   "cell_type": "code",
   "execution_count": 25,
   "metadata": {},
   "outputs": [
    {
     "name": "stderr",
     "output_type": "stream",
     "text": [
      " 12%|█▏        | 124/1000 [00:00<00:01, 610.96it/s]"
     ]
    },
    {
     "name": "stdout",
     "output_type": "stream",
     "text": [
      "tensor([0., 0., 0.], requires_grad=True)\n"
     ]
    },
    {
     "name": "stderr",
     "output_type": "stream",
     "text": [
      "100%|██████████| 1000/1000 [00:01<00:00, 617.09it/s]\n"
     ]
    },
    {
     "name": "stdout",
     "output_type": "stream",
     "text": [
      "x [0.5654747 1.06068   3.141591 ] B 0.09999754\n",
      "sat\n"
     ]
    },
    {
     "data": {
      "image/png": "[encoded data removed]",
      "text/plain": [
       "<Figure size 432x288 with 1 Axes>"
      ]
     },
     "metadata": {
      "needs_background": "light"
     },
     "output_type": "display_data"
    }
   ],
   "source": [
    "# x = torch.tensor(np.random.uniform(-10, 10, (3,)), requires_grad=True)\n",
    "x = torch.tensor([0,0,0], dtype=torch.float, requires_grad=True)\n",
    "# x = torch.tensor([-7.8689,  6.3019,  2.9677], dtype=torch.float, requires_grad=True)\n",
    "print(x)\n",
    "trace = train(model, x)\n",
    "plt.plot(trace.loss)\n",
    "print('x', x.data.numpy(), 'B' ,B_param.data.numpy())\n",
    "\n",
    "s = z3.Solver()\n",
    "s.from_file(challenge_problems[problem_id])\n",
    "skoX = z3.Real('skoX')\n",
    "skoY = z3.Real('skoY')\n",
    "pi = z3.Real('pi')\n",
    "s.add(skoX == x[0].item() and skoY == x[1].item() and pi == x[2].item())\n",
    "print(s.check())"
   ]
  },
  {
   "cell_type": "markdown",
   "metadata": {},
   "source": [
    "### Problem 3"
   ]
  },
  {
   "cell_type": "code",
   "execution_count": 26,
   "metadata": {},
   "outputs": [
    {
     "data": {
      "text/plain": [
       "'((0.0 <= skoY) & ((! (skoY = 0.0)) & ((! (pi <= 15707963/5000000)) & ((! (31415927/10000000 <= pi)) & ((! ((pi * 1/2) <= skoY)) & ((! (skoX <= 0.0)) & (! (skoY <= skoX))))))))'"
      ]
     },
     "execution_count": 26,
     "metadata": {},
     "output_type": "execute_result"
    }
   ],
   "source": [
    "problem_id = 3\n",
    "root = read_smtlib(challenge_problems[problem_id])\n",
    "root.serialize()"
   ]
  },
  {
   "cell_type": "code",
   "execution_count": 27,
   "metadata": {},
   "outputs": [],
   "source": [
    "class CLNModel(torch.nn.Module):\n",
    "    def __init__(self, B):\n",
    "        super(CLNModel, self).__init__()\n",
    "        self.B = B\n",
    "        self.min_B = 0.1\n",
    "        self.eps = 0.05\n",
    "        \n",
    "    def forward(self, x):\n",
    "        B = self.B\n",
    "        eps = self.eps\n",
    "        \n",
    "        B.data.clamp_(min=self.min_B)\n",
    "        \n",
    "        skoX = x[0]\n",
    "        skoY = x[1]\n",
    "        pi = x[2]\n",
    "        \n",
    "        c0 = cln.le(0 - skoY, B, eps)\n",
    "        c1 = cln.neg(cln.eq(skoY - 0.0, B, eps))\n",
    "        c2 = cln.neg(cln.le(pi - 15707963/5000000, B, eps))\n",
    "        c3 = cln.neg(cln.le(31415927/10000000 - pi, B, eps))\n",
    "        c4 = cln.neg(cln.le(pi * 1/2 - skoY, B, eps))\n",
    "        c5 = cln.neg(cln.le(skoX - 0.0, B, eps))\n",
    "        c6 = cln.neg(cln.le(skoY - skoX, B, eps))\n",
    "        \n",
    "        \n",
    "        ycln = cln.godel_tnorm([c0, c1, c2, c3, c4, c5, c6])\n",
    "        return ycln\n"
   ]
  },
  {
   "cell_type": "code",
   "execution_count": 28,
   "metadata": {},
   "outputs": [
    {
     "name": "stderr",
     "output_type": "stream",
     "text": [
      " 13%|█▎        | 126/1000 [00:00<00:01, 625.75it/s]"
     ]
    },
    {
     "name": "stdout",
     "output_type": "stream",
     "text": [
      "tensor([0., 0., 0.], requires_grad=True)\n"
     ]
    },
    {
     "name": "stderr",
     "output_type": "stream",
     "text": [
      "100%|██████████| 1000/1000 [00:01<00:00, 613.69it/s]\n"
     ]
    },
    {
     "name": "stdout",
     "output_type": "stream",
     "text": [
      "x [0.11059995 0.11871324 3.1415915 ] B 0.099996984\n",
      "unsat\n"
     ]
    },
    {
     "data": {
      "image/png": "[encoded data removed]",
      "text/plain": [
       "<Figure size 432x288 with 1 Axes>"
      ]
     },
     "metadata": {
      "needs_background": "light"
     },
     "output_type": "display_data"
    }
   ],
   "source": [
    "# x = torch.tensor(np.random.uniform(-10, 10, (3,)), requires_grad=True)\n",
    "x = torch.tensor([0,0,0], dtype=torch.float, requires_grad=True)\n",
    "# x = torch.tensor([-7.8689,  6.3019,  2.9677], dtype=torch.float, requires_grad=True)\n",
    "print(x)\n",
    "\n",
    "B_param = torch.nn.Parameter(torch.tensor(0.1))\n",
    "model = CLNModel(B=B_param)\n",
    "\n",
    "trace = train(model, x)\n",
    "plt.plot(trace.loss)\n",
    "print('x', x.data.numpy(), 'B' ,B_param.data.numpy())\n",
    "\n",
    "s = z3.Solver()\n",
    "s.from_file(challenge_problems[problem_id])\n",
    "skoX = z3.Real('skoX')\n",
    "skoY = z3.Real('skoY')\n",
    "pi = z3.Real('pi')\n",
    "s.add(skoX == x[0].item())\n",
    "s.add(skoY == x[1].item())\n",
    "s.add(pi == x[2].item())\n",
    "print(s.check())"
   ]
  },
  {
   "cell_type": "markdown",
   "metadata": {},
   "source": [
    "What is going on here?"
   ]
  },
  {
   "cell_type": "code",
   "execution_count": 29,
   "metadata": {},
   "outputs": [],
   "source": [
    "def train(model, x):\n",
    "    opt = torch.optim.Adam(params=[x] + list(model.parameters()), lr=0.25)\n",
    "    \n",
    "    # LR DECAY\n",
    "    scheduler = torch.optim.lr_scheduler.MultiplicativeLR(opt, lambda epoch: 0.99)\n",
    "    \n",
    "    trace = []\n",
    "    for i in trange(1000): # MORE EPOCHS\n",
    "        opt.zero_grad()\n",
    "        \n",
    "        cln_out = model(x)\n",
    "        loss = 1 - cln_out\n",
    "        \n",
    "        trace.append([loss.item()] + x.data.numpy().tolist())\n",
    "                    \n",
    "\n",
    "        loss.backward()\n",
    "        opt.step()\n",
    "        scheduler.step()\n",
    "                \n",
    "    return pd.DataFrame(trace, columns=['loss', 'skoX', 'skoY', 'pi'])"
   ]
  },
  {
   "cell_type": "code",
   "execution_count": 30,
   "metadata": {},
   "outputs": [
    {
     "name": "stderr",
     "output_type": "stream",
     "text": [
      "100%|██████████| 1000/1000 [00:01<00:00, 605.55it/s]\n"
     ]
    },
    {
     "data": {
      "text/plain": [
       "[<matplotlib.lines.Line2D at 0x1217153d0>]"
      ]
     },
     "execution_count": 30,
     "metadata": {},
     "output_type": "execute_result"
    },
    {
     "data": {
      "image/png": "[encoded data removed]",
      "text/plain": [
       "<Figure size 432x288 with 1 Axes>"
      ]
     },
     "metadata": {
      "needs_background": "light"
     },
     "output_type": "display_data"
    }
   ],
   "source": [
    "B_param = torch.nn.Parameter(torch.tensor(0.1))\n",
    "model = CLNModel(B=B_param)\n",
    "\n",
    "# x = torch.tensor(np.random.uniform(-10, 10, (3,)), requires_grad=True)\n",
    "x = torch.tensor([0,0,0], dtype=torch.float, requires_grad=True)\n",
    "# x = torch.tensor([-7.8689,  6.3019,  2.9677], dtype=torch.float, requires_grad=True)\n",
    "trace = train(model, x)\n",
    "plt.plot(trace.pi)\n"
   ]
  },
  {
   "cell_type": "code",
   "execution_count": 31,
   "metadata": {},
   "outputs": [
    {
     "data": {
      "text/plain": [
       "[<matplotlib.lines.Line2D at 0x12145ead0>]"
      ]
     },
     "execution_count": 31,
     "metadata": {},
     "output_type": "execute_result"
    },
    {
     "data": {
      "image/png": "[encoded data removed]",
      "text/plain": [
       "<Figure size 432x288 with 1 Axes>"
      ]
     },
     "metadata": {
      "needs_background": "light"
     },
     "output_type": "display_data"
    }
   ],
   "source": [
    "plt.plot(trace.pi[-100:])"
   ]
  },
  {
   "cell_type": "markdown",
   "metadata": {},
   "source": [
    "modify model and training to be more stable"
   ]
  },
  {
   "cell_type": "code",
   "execution_count": 32,
   "metadata": {},
   "outputs": [
    {
     "name": "stderr",
     "output_type": "stream",
     "text": [
      "100%|██████████| 5000/5000 [00:09<00:00, 513.15it/s]\n"
     ]
    },
    {
     "name": "stdout",
     "output_type": "stream",
     "text": [
      "0.0005117152468301356 1.5248475074768066 3.141592264175415\n",
      "3.1415926 3.1415927\n",
      "unsat\n"
     ]
    },
    {
     "data": {
      "image/png": "[encoded data removed]",
      "text/plain": [
       "<Figure size 432x288 with 1 Axes>"
      ]
     },
     "metadata": {
      "needs_background": "light"
     },
     "output_type": "display_data"
    },
    {
     "data": {
      "image/png": "[encoded data removed]",
      "text/plain": [
       "<Figure size 432x288 with 1 Axes>"
      ]
     },
     "metadata": {
      "needs_background": "light"
     },
     "output_type": "display_data"
    }
   ],
   "source": [
    "class CLNModel(torch.nn.Module):\n",
    "    def __init__(self, B, eps):\n",
    "        super(CLNModel, self).__init__()\n",
    "        self.B = B\n",
    "        self.min_B = 0.1\n",
    "        self.eps = eps\n",
    "        \n",
    "    def forward(self, x):\n",
    "        B = self.B\n",
    "        eps = self.eps\n",
    "        \n",
    "        B.data.clamp_(min=self.min_B)\n",
    "        \n",
    "        skoX = x[0]\n",
    "        skoY = x[1]\n",
    "        pi = x[2]\n",
    "        \n",
    "        c0 = cln.le(0 - skoY, B, eps)\n",
    "        c1 = cln.neg(cln.eq(skoY - 0.0, B, eps))\n",
    "        c2 = cln.neg(cln.le(pi - 15707963/5000000, B, eps))\n",
    "        c3 = cln.neg(cln.le(31415927/10000000 - pi, B, eps))\n",
    "        c4 = cln.neg(cln.le(pi * 1/2 - skoY, B, eps))\n",
    "        c5 = cln.neg(cln.le(skoX - 0.0, B, eps))\n",
    "        c6 = cln.neg(cln.le(skoY - skoX, B, eps))\n",
    "        \n",
    "        \n",
    "        ycln = cln.godel_tnorm([c0, c1, c2, c3, c4, c5, c6])\n",
    "        return ycln\n",
    "\n",
    "def train(model, x):\n",
    "    opt = torch.optim.Adam(params=[x] + list(model.parameters()), lr=0.25)\n",
    "    \n",
    "    # LR DECAY\n",
    "    scheduler = torch.optim.lr_scheduler.MultiplicativeLR(opt, \n",
    "                                                          lambda epoch: 0.997)\n",
    "    # REDUCE LR ON PLATEAU\n",
    "#     scheduler = torch.optim.lr_scheduler.ReduceLROnPlateau(opt, 'min',\n",
    "#                                                            patience=50, factor=0.9, eps=1e-8)\n",
    "    \n",
    "    trace = []\n",
    "    for i in trange(5000): # MORE EPOCHS\n",
    "        opt.zero_grad()\n",
    "        \n",
    "        cln_out = model(x)\n",
    "        eps_reg = 0.5*model.eps.norm(2).pow(2)\n",
    "        loss = 1 - cln_out + eps_reg\n",
    "        \n",
    "        trace.append([loss.item()] + x.data.numpy().tolist()\n",
    "                    + [opt.param_groups[0]['lr']])\n",
    "                    \n",
    "\n",
    "        loss.backward()\n",
    "        opt.step()\n",
    "        scheduler.step(loss)\n",
    "        \n",
    "        if opt.param_groups[0]['lr'] < 2e-7:\n",
    "            opt.param_groups[0]['lr'] = 2e-7\n",
    "                \n",
    "    return pd.DataFrame(trace, columns=['loss', 'skoX', 'skoY', 'pi', 'lr'])\n",
    "\n",
    "B_param = torch.nn.Parameter(torch.tensor(0.1))\n",
    "eps_param = torch.nn.Parameter(torch.tensor(0.1))\n",
    "model = CLNModel(B=B_param, eps=eps_param)\n",
    "\n",
    "x = torch.tensor([0,0,0], dtype=torch.float, requires_grad=True)\n",
    "# x = torch.tensor([-7.8689,  6.3019,  2.9677], dtype=torch.float, requires_grad=True)\n",
    "trace = train(model, x)\n",
    "plt.plot(trace.loss)\n",
    "plt.figure()\n",
    "plt.plot(trace.pi[-1000:])\n",
    "\n",
    "s = z3.Solver()\n",
    "s.from_file(challenge_problems[problem_id])\n",
    "skoX = z3.Real('skoX')\n",
    "skoY = z3.Real('skoY')\n",
    "pi = z3.Real('pi')\n",
    "s.add(skoX == x[0].item())\n",
    "s.add(skoY == x[1].item())\n",
    "s.add(pi == x[2].item())\n",
    "\n",
    "print(x[0].item(), x[1].item(), x[2].item())\n",
    "print(15707963/5000000, 31415927/10000000)\n",
    "print(s.check())"
   ]
  },
  {
   "cell_type": "code",
   "execution_count": 33,
   "metadata": {},
   "outputs": [
    {
     "data": {
      "text/plain": [
       "tensor(13.2169)"
      ]
     },
     "execution_count": 33,
     "metadata": {},
     "output_type": "execute_result"
    }
   ],
   "source": [
    "model.B.data"
   ]
  },
  {
   "cell_type": "code",
   "execution_count": 34,
   "metadata": {},
   "outputs": [
    {
     "data": {
      "text/plain": [
       "tensor(-0.2865)"
      ]
     },
     "execution_count": 34,
     "metadata": {},
     "output_type": "execute_result"
    }
   ],
   "source": [
    "model.eps.data"
   ]
  },
  {
   "cell_type": "code",
   "execution_count": 35,
   "metadata": {},
   "outputs": [
    {
     "data": {
      "text/plain": [
       "tensor([ 0.0000,  0.0000, -0.2865])"
      ]
     },
     "execution_count": 35,
     "metadata": {},
     "output_type": "execute_result"
    }
   ],
   "source": [
    "x.grad"
   ]
  },
  {
   "cell_type": "code",
   "execution_count": 117,
   "metadata": {},
   "outputs": [
    {
     "data": {
      "text/plain": [
       "[<matplotlib.lines.Line2D at 0x12a3a8b90>]"
      ]
     },
     "execution_count": 117,
     "metadata": {},
     "output_type": "execute_result"
    },
    {
     "data": {
      "image/png": "[encoded data removed]",
      "text/plain": [
       "<Figure size 432x288 with 1 Axes>"
      ]
     },
     "metadata": {
      "needs_background": "light"
     },
     "output_type": "display_data"
    }
   ],
   "source": [
    "plt.plot(trace.lr[-500:])"
   ]
  },
  {
   "cell_type": "code",
   "execution_count": null,
   "metadata": {},
   "outputs": [],
   "source": []
  },
  {
   "cell_type": "code",
   "execution_count": null,
   "metadata": {},
   "outputs": [],
   "source": []
  },
  {
   "cell_type": "code",
   "execution_count": null,
   "metadata": {},
   "outputs": [],
   "source": []
  },
  {
   "cell_type": "code",
   "execution_count": 36,
   "metadata": {},
   "outputs": [],
   "source": [
    "# exp Bs\n",
    "class CLNModel(torch.nn.Module):\n",
    "    def __init__(self, B, eps):\n",
    "        super(CLNModel, self).__init__()\n",
    "        self.B = B\n",
    "        self.min_B = -1.0\n",
    "        self.eps = eps\n",
    "        self.min_eps = 0.1\n",
    "\n",
    "        \n",
    "    def forward(self, x):\n",
    "#         B = self.B.repeat(7)\n",
    "        B = self.B\n",
    "        eps = self.eps\n",
    "        \n",
    "        B.data.clamp_(min=self.min_B, max=7.0)\n",
    "#         eps.data.clamp_(min=self.min_eps)\n",
    "        \n",
    "        B = torch.exp(B)\n",
    "        \n",
    "        skoX = x[0]\n",
    "        skoY = x[1]\n",
    "        pi = x[2]\n",
    "        \n",
    "        c0 = cln.le(0 - skoY, B[0], eps[0])\n",
    "        c1 = cln.neg(cln.eq(skoY - 0.0, B[1], eps[1]))\n",
    "        c2 = cln.neg(cln.le(pi - 15707963/5000000, B[2], eps[2]))\n",
    "        c3 = cln.neg(cln.le(31415927/10000000 - pi, B[3], eps[3]))\n",
    "        c4 = cln.neg(cln.le(pi * 1/2 - skoY, B[4], eps[4]))\n",
    "        c5 = cln.neg(cln.le(skoX - 0.0, B[5], eps[5]))\n",
    "        c6 = cln.neg(cln.le(skoY - skoX, B[6], eps[6]))\n",
    "        \n",
    "        \n",
    "#         ycln = cln.prod_tnorm([c0, c1, c2, c3, c4, c5, c6])\n",
    "        ycln = cln.godel_tnorm([c0, c1, c2, c3, c4, c5, c6])\n",
    "        return ycln"
   ]
  },
  {
   "cell_type": "code",
   "execution_count": 37,
   "metadata": {},
   "outputs": [],
   "source": [
    "def train(model, x):\n",
    "    \n",
    "    B_lr = 0.002\n",
    "    eps_lr = 0.01\n",
    "        \n",
    "#     opt = torch.optim.Adam(params = [x] + list(model.parameters()), lr=0.25)\n",
    "    opt = torch.optim.Adam([{'params':[x],'lr':0.1},\n",
    "                            {'params':[model.B], 'lr':B_lr},\n",
    "                            {'params':[model.eps], 'lr':eps_lr},\n",
    "                           ])\n",
    "    \n",
    "    # REDUCE LR ON PLATEAU\n",
    "    scheduler = torch.optim.lr_scheduler.ReduceLROnPlateau(opt, 'min',\n",
    "                                                           patience=50, factor=0.9, eps=5e-7)\n",
    "    \n",
    "    trace = []\n",
    "    for i in trange(10000): \n",
    "        opt.zero_grad()\n",
    "        \n",
    "        cln_out = model(x)\n",
    "        eps_reg = 1.0*model.eps.norm(2).pow(2)\n",
    "        loss = 1 - cln_out + eps_reg\n",
    "        \n",
    "        trace.append([loss.item()] + \n",
    "                     x.data.numpy().tolist() + \n",
    "                     [opt.param_groups[0]['lr']] +\n",
    "                     model.eps.data.numpy().tolist())\n",
    "#                     [model.B.item()]+\n",
    "                    \n",
    "\n",
    "        loss.backward()\n",
    "        torch.nn.utils.clip_grad_norm_(x, 0.05) # CLIP GRAD\n",
    "            \n",
    "        \n",
    "        opt.step()\n",
    "        scheduler.step(loss)\n",
    "        opt.param_groups[1]['lr'] = B_lr\n",
    "        opt.param_groups[2]['lr'] = eps_lr\n",
    "                \n",
    "    return pd.DataFrame(trace, \n",
    "                        columns=['loss', 'skoX', 'skoY', 'pi', 'lr'] +\n",
    "                        ['eps{}'.format(i) for i in range(len(model.eps))])\n",
    "#                         ['B{}'.format(i) for i in range(len(model.B))])\n"
   ]
  },
  {
   "cell_type": "code",
   "execution_count": 38,
   "metadata": {},
   "outputs": [
    {
     "name": "stderr",
     "output_type": "stream",
     "text": [
      "100%|██████████| 10000/10000 [00:22<00:00, 453.22it/s]\n"
     ]
    },
    {
     "name": "stdout",
     "output_type": "stream",
     "text": [
      "0.6059234738349915 1.1315791606903076 3.1470906734466553\n",
      "3.1415926 3.1415927\n",
      "unsat\n"
     ]
    },
    {
     "data": {
      "image/png": "[encoded data removed]",
      "text/plain": [
       "<Figure size 432x288 with 1 Axes>"
      ]
     },
     "metadata": {
      "needs_background": "light"
     },
     "output_type": "display_data"
    }
   ],
   "source": [
    "x = torch.tensor([0,0,0], dtype=torch.float, requires_grad=True)\n",
    "\n",
    "B_param = torch.nn.Parameter(torch.ones((7,)))\n",
    "# B_param = torch.nn.Parameter(torch.tensor([1.0]))\n",
    "eps_param = torch.nn.Parameter(torch.ones((7,))*0.5)\n",
    "\n",
    "model = CLNModel(B=B_param, eps=eps_param)\n",
    "trace = train(model, x)\n",
    "plt.plot(trace.loss)\n",
    "plt.plot(trace.pi)\n",
    "# plt.plot(trace.eps)\n",
    "\n",
    "s = z3.Solver()\n",
    "s.from_file(challenge_problems[problem_id])\n",
    "skoX = z3.Real('skoX')\n",
    "skoY = z3.Real('skoY')\n",
    "pi = z3.Real('pi')\n",
    "s.add(skoX == x[0].item())\n",
    "s.add(skoY == x[1].item())\n",
    "s.add(pi == x[2].item())\n",
    "print(x[0].item(), x[1].item(), x[2].item())\n",
    "print(15707963/5000000, 31415927/10000000)\n",
    "print(s.check())"
   ]
  },
  {
   "cell_type": "code",
   "execution_count": 36,
   "metadata": {},
   "outputs": [
    {
     "data": {
      "text/html": [
       "<b>unsat</b>"
      ],
      "text/plain": [
       "unsat"
      ]
     },
     "execution_count": 36,
     "metadata": {},
     "output_type": "execute_result"
    }
   ],
   "source": [
    "s.add(skoX == x[0].item())\n",
    "s.add(skoY == x[1].item())\n",
    "s.add(pi == x[2].item())\n",
    "s.check()"
   ]
  },
  {
   "cell_type": "code",
   "execution_count": 37,
   "metadata": {},
   "outputs": [
    {
     "data": {
      "text/html": [
       "[0 &le; skoY &and;\n",
       " &not;(skoY = 0) &and;\n",
       " &not;(pi &le; 15707963/5000000) &and;\n",
       " &not;(31415927/10000000 &le; pi) &and;\n",
       " &not;(pi&middot;(1/2) &le; skoY) &and;\n",
       " &not;(skoX &le; 0) &and;\n",
       " &not;(skoY &le; skoX),\n",
       " skoX = 1211846947669983/2000000000000000,\n",
       " skoX = 1211846947669983/2000000000000000,\n",
       " skoY = 2828947901725769/2500000000000000,\n",
       " pi = 31470906734466553/10000000000000000]"
      ],
      "text/plain": [
       "[And(0 <= skoY,\n",
       "     And(Not(skoY == 0),\n",
       "         And(Not(pi <= 15707963/5000000),\n",
       "             And(Not(31415927/10000000 <= pi),\n",
       "                 And(Not(pi*(1/2) <= skoY),\n",
       "                     And(Not(skoX <= 0), Not(skoY <= skoX))))))),\n",
       " skoX == 1211846947669983/2000000000000000,\n",
       " skoX == 1211846947669983/2000000000000000,\n",
       " skoY == 2828947901725769/2500000000000000,\n",
       " pi == 31470906734466553/10000000000000000]"
      ]
     },
     "execution_count": 37,
     "metadata": {},
     "output_type": "execute_result"
    }
   ],
   "source": [
    "s"
   ]
  },
  {
   "cell_type": "code",
   "execution_count": 39,
   "metadata": {},
   "outputs": [
    {
     "data": {
      "text/plain": [
       "[<matplotlib.lines.Line2D at 0x121e55d90>]"
      ]
     },
     "execution_count": 39,
     "metadata": {},
     "output_type": "execute_result"
    },
    {
     "data": {
      "image/png": "[encoded data removed]",
      "text/plain": [
       "<Figure size 432x288 with 1 Axes>"
      ]
     },
     "metadata": {
      "needs_background": "light"
     },
     "output_type": "display_data"
    }
   ],
   "source": [
    "plt.plot(trace.pi[-100:])"
   ]
  },
  {
   "cell_type": "code",
   "execution_count": 39,
   "metadata": {},
   "outputs": [
    {
     "data": {
      "text/plain": [
       "(tensor([0.6059, 1.1316, 3.1471]), 3.1470906734466553)"
      ]
     },
     "execution_count": 39,
     "metadata": {},
     "output_type": "execute_result"
    }
   ],
   "source": [
    "x.data, x[2].item()"
   ]
  },
  {
   "cell_type": "code",
   "execution_count": 15,
   "metadata": {},
   "outputs": [
    {
     "data": {
      "text/plain": [
       "tensor([-1.1909e-08, -1.2628e-06, -1.1259e-03])"
      ]
     },
     "execution_count": 15,
     "metadata": {},
     "output_type": "execute_result"
    }
   ],
   "source": [
    "x.grad"
   ]
  },
  {
   "cell_type": "code",
   "execution_count": 16,
   "metadata": {},
   "outputs": [
    {
     "data": {
      "text/plain": [
       "tensor([2.7835, 2.7744, 6.8708, 6.9051, 3.3064, 3.3417, 3.3408])"
      ]
     },
     "execution_count": 16,
     "metadata": {},
     "output_type": "execute_result"
    }
   ],
   "source": [
    "model.B.data"
   ]
  },
  {
   "cell_type": "code",
   "execution_count": 17,
   "metadata": {},
   "outputs": [
    {
     "data": {
      "text/plain": [
       "tensor([-8.3907e-07,  0.0000e+00, -2.4802e-04, -2.2943e-04, -6.9145e-06,\n",
       "        -7.0030e-06, -6.9995e-06])"
      ]
     },
     "execution_count": 17,
     "metadata": {},
     "output_type": "execute_result"
    }
   ],
   "source": [
    "model.B.grad"
   ]
  },
  {
   "cell_type": "code",
   "execution_count": 18,
   "metadata": {},
   "outputs": [
    {
     "data": {
      "text/plain": [
       "tensor([ 4.0541e-07, -3.4912e-10, -1.0918e-02, -1.0937e-02, -6.8142e-06,\n",
       "        -8.1877e-06, -1.1100e-05])"
      ]
     },
     "execution_count": 18,
     "metadata": {},
     "output_type": "execute_result"
    }
   ],
   "source": [
    "model.eps.data"
   ]
  },
  {
   "cell_type": "code",
   "execution_count": 19,
   "metadata": {},
   "outputs": [
    {
     "data": {
      "text/plain": [
       "tensor([-4.2121e-10, -2.6421e-10,  5.5831e-04, -6.0558e-04,  7.0389e-07,\n",
       "         4.0234e-06,  3.6752e-06])"
      ]
     },
     "execution_count": 19,
     "metadata": {},
     "output_type": "execute_result"
    }
   ],
   "source": [
    "model.eps.grad"
   ]
  },
  {
   "cell_type": "code",
   "execution_count": 20,
   "metadata": {},
   "outputs": [
    {
     "data": {
      "text/plain": [
       "0       0.100000\n",
       "1       0.100000\n",
       "2       0.100000\n",
       "3       0.100000\n",
       "4       0.100000\n",
       "          ...   \n",
       "9995    0.016677\n",
       "9996    0.016677\n",
       "9997    0.016677\n",
       "9998    0.016677\n",
       "9999    0.016677\n",
       "Name: lr, Length: 10000, dtype: float64"
      ]
     },
     "execution_count": 20,
     "metadata": {},
     "output_type": "execute_result"
    }
   ],
   "source": [
    "trace.lr"
   ]
  },
  {
   "cell_type": "code",
   "execution_count": null,
   "metadata": {},
   "outputs": [],
   "source": []
  },
  {
   "cell_type": "code",
   "execution_count": null,
   "metadata": {},
   "outputs": [],
   "source": []
  },
  {
   "cell_type": "code",
   "execution_count": null,
   "metadata": {},
   "outputs": [],
   "source": []
  }
 ],
 "metadata": {
  "kernelspec": {
   "display_name": "Python 3",
   "language": "python",
   "name": "python3"
  },
  "language_info": {
   "codemirror_mode": {
    "name": "ipython",
    "version": 3
   },
   "file_extension": ".py",
   "mimetype": "text/x-python",
   "name": "python",
   "nbconvert_exporter": "python",
   "pygments_lexer": "ipython3",
   "version": "3.7.6"
  }
 },
 "nbformat": 4,
 "nbformat_minor": 2
}
