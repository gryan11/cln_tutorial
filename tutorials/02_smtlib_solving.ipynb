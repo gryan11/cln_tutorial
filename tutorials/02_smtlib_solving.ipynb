{
 "cells": [
  {
   "cell_type": "code",
   "execution_count": null,
   "metadata": {},
   "outputs": [],
   "source": [
    "from pysmt.shortcuts import read_smtlib\n",
    "import z3\n",
    "from glob import glob\n",
    "\n",
    "import torch\n",
    "import cln\n",
    "import numpy as np\n",
    "import matplotlib.pyplot as plt\n",
    "\n",
    "from tqdm import trange\n",
    "import pandas as pd\n",
    "\n",
    "from cln import Parser\n"
   ]
  },
  {
   "cell_type": "markdown",
   "metadata": {},
   "source": [
    "## Sample problems:"
   ]
  },
  {
   "cell_type": "code",
   "execution_count": null,
   "metadata": {},
   "outputs": [],
   "source": [
    "data_dir = '../data/smtlib_problems/'\n",
    "smtlib_problems = glob(data_dir+'*')"
   ]
  },
  {
   "cell_type": "code",
   "execution_count": null,
   "metadata": {},
   "outputs": [],
   "source": [
    "smtlib_problems"
   ]
  },
  {
   "cell_type": "code",
   "execution_count": null,
   "metadata": {},
   "outputs": [],
   "source": [
    "%cat {smtlib_problems[0]}"
   ]
  },
  {
   "cell_type": "markdown",
   "metadata": {},
   "source": [
    "## Solving with z3:"
   ]
  },
  {
   "cell_type": "code",
   "execution_count": null,
   "metadata": {},
   "outputs": [],
   "source": [
    "s = z3.Solver()\n"
   ]
  },
  {
   "cell_type": "code",
   "execution_count": null,
   "metadata": {},
   "outputs": [],
   "source": [
    "s.from_file(smtlib_problems[0])"
   ]
  },
  {
   "cell_type": "code",
   "execution_count": null,
   "metadata": {},
   "outputs": [],
   "source": [
    "s.check()"
   ]
  },
  {
   "cell_type": "code",
   "execution_count": null,
   "metadata": {},
   "outputs": [],
   "source": [
    "s.model()"
   ]
  },
  {
   "cell_type": "markdown",
   "metadata": {},
   "source": [
    "## Can we solve with cln?"
   ]
  },
  {
   "cell_type": "code",
   "execution_count": null,
   "metadata": {},
   "outputs": [],
   "source": [
    "root = read_smtlib(smtlib_problems[0])"
   ]
  },
  {
   "cell_type": "code",
   "execution_count": null,
   "metadata": {},
   "outputs": [],
   "source": [
    "root.serialize()"
   ]
  },
  {
   "cell_type": "markdown",
   "metadata": {},
   "source": [
    "Generate a model for the smt:"
   ]
  },
  {
   "cell_type": "code",
   "execution_count": null,
   "metadata": {},
   "outputs": [],
   "source": [
    "'''\n",
    "(! (((1.0 + (skoX * -1.0)) + (skoY * -1.0)) <= skoZ)) & \n",
    "(\n",
    "    (! (skoZ <= 0.0)) & \n",
    "    (\n",
    "        (! (skoY <= 0.0)) & \n",
    "        (! (skoX <= 0.0))\n",
    "    )\n",
    ")\n",
    "'''\n",
    "\n",
    "class CLNModel(torch.nn.Module):\n",
    "    def __init__(self, B):\n",
    "        super(CLNModel, self).__init__()\n",
    "        self.B = B\n",
    "        self.eps = 0.5\n",
    "        \n",
    "    def forward(self, x):\n",
    "        B = self.B\n",
    "        eps = self.eps\n",
    "        \n",
    "        skoX = x[0]\n",
    "        skoY = x[1]\n",
    "        skoZ = x[2]\n",
    "        \n",
    "        \n",
    "        c1 = cln.neg(cln.le(((1.0 + (skoX * -1.0)) + (skoY * -1.0)) - skoZ, B, eps))\n",
    "        c2 = cln.neg(cln.le(skoZ - 0.0, B, eps))\n",
    "        c3 = cln.neg(cln.le(skoY - 0.0, B, eps))\n",
    "        c4 = cln.neg(cln.le(skoX - 0.0, B, eps))\n",
    "        \n",
    "        \n",
    "        ycln = cln.prod_tnorm([c1, c2, c3, c4])\n",
    "        return ycln\n",
    "    \n",
    "model = CLNModel(B=3)\n",
    "\n",
    "x = torch.tensor([0.0, 0.0, 0.0])\n",
    "model(x)"
   ]
  },
  {
   "cell_type": "code",
   "execution_count": null,
   "metadata": {},
   "outputs": [],
   "source": [
    "def train(x, model):\n",
    "    opt = torch.optim.Adam(params=[x] + list(model.parameters()), lr=0.01)\n",
    "    \n",
    "    loss_trace = []\n",
    "    for i in trange(100): # MORE EPOCHS\n",
    "        opt.zero_grad()\n",
    "        \n",
    "        cln_out = model(x)\n",
    "        loss = 1 - cln_out\n",
    "        \n",
    "        loss_trace.append(loss.item())\n",
    "\n",
    "        loss.backward()\n",
    "        opt.step()\n",
    "                \n",
    "    return pd.DataFrame({'loss':loss_trace})\n",
    "\n",
    "x = torch.tensor([0.0, 0.0, 0.0], requires_grad=True)\n",
    "t = train(x, model)\n",
    "plt.plot(t.loss)\n"
   ]
  },
  {
   "cell_type": "markdown",
   "metadata": {},
   "source": [
    "Check model results:"
   ]
  },
  {
   "cell_type": "code",
   "execution_count": null,
   "metadata": {},
   "outputs": [],
   "source": [
    "x[0].item()"
   ]
  },
  {
   "cell_type": "code",
   "execution_count": null,
   "metadata": {},
   "outputs": [],
   "source": [
    "s = z3.Solver()\n",
    "s.from_file(smtlib_problems[0])\n",
    "\n",
    "skoX = z3.Real('skoX')\n",
    "skoY = z3.Real('skoY')\n",
    "skoZ = z3.Real('skoZ')\n",
    "s.add(skoX == x[0].item() and skoY == x[1].item() and skoZ == x[2].item())"
   ]
  },
  {
   "cell_type": "code",
   "execution_count": null,
   "metadata": {},
   "outputs": [],
   "source": [
    "s"
   ]
  },
  {
   "cell_type": "code",
   "execution_count": null,
   "metadata": {},
   "outputs": [],
   "source": [
    "s.check()"
   ]
  },
  {
   "cell_type": "code",
   "execution_count": null,
   "metadata": {},
   "outputs": [],
   "source": [
    "s.model()"
   ]
  },
  {
   "cell_type": "markdown",
   "metadata": {},
   "source": [
    "## Solving from random initialization:\n",
    "Can we learn from random start?\n"
   ]
  },
  {
   "cell_type": "code",
   "execution_count": null,
   "metadata": {},
   "outputs": [],
   "source": [
    "x = torch.tensor(np.random.uniform(-10, 10, (3,)), requires_grad=True)\n",
    "x"
   ]
  },
  {
   "cell_type": "code",
   "execution_count": null,
   "metadata": {},
   "outputs": [],
   "source": [
    "model = CLNModel(B=3)\n",
    "\n",
    "print('x before', x, '\\nloss before', 1-model(x))\n",
    "trace = train(x, model)\n",
    "print('\\nx after', x, '\\nloss after', 1-model(x))"
   ]
  },
  {
   "cell_type": "code",
   "execution_count": null,
   "metadata": {},
   "outputs": [],
   "source": [
    "s = z3.Solver()\n",
    "s.from_file(smtlib_problems[0])\n",
    "skoX = z3.Real('skoX')\n",
    "skoY = z3.Real('skoY')\n",
    "skoZ = z3.Real('skoZ')\n",
    "s.add(skoX == x[0].item() and skoY == x[1].item() and skoZ == x[2].item())\n",
    "s.check()"
   ]
  },
  {
   "cell_type": "markdown",
   "metadata": {},
   "source": [
    "Clearly does not work reliably... can we do better?\n",
    "- increase learning rate\n",
    "- add decay\n",
    "- make B parameter\n",
    "- go for more epochs"
   ]
  },
  {
   "cell_type": "code",
   "execution_count": null,
   "metadata": {},
   "outputs": [],
   "source": [
    "def improved_train(x, model):\n",
    "    opt = torch.optim.Adam(params=[x] + list(model.parameters()), lr=0.25)\n",
    "    \n",
    "    # LR DECAY\n",
    "    scheduler = torch.optim.lr_scheduler.MultiplicativeLR(opt, lambda epoch: 0.99)\n",
    "    \n",
    "    loss_trace = []\n",
    "    for i in trange(500): # MORE EPOCHS\n",
    "        opt.zero_grad()\n",
    "        \n",
    "        cln_out = model(x)\n",
    "        loss = 1 - cln_out\n",
    "        \n",
    "        loss_trace.append(loss.item())\n",
    "\n",
    "        loss.backward()\n",
    "        opt.step()\n",
    "        scheduler.step()\n",
    "                \n",
    "    return pd.DataFrame({'loss':loss_trace})"
   ]
  },
  {
   "cell_type": "code",
   "execution_count": null,
   "metadata": {},
   "outputs": [],
   "source": [
    "x = torch.tensor(np.random.uniform(-10, 10, (3,)), requires_grad=True)\n",
    "\n",
    "\n",
    "B_param = torch.nn.Parameter(torch.tensor(1.0))\n",
    "\n",
    "\n",
    "model = CLNModel(B=B_param)\n",
    "\n",
    "print('x before', x, '\\nloss before', 1-model(x))\n",
    "trace = improved_train(x, model)\n",
    "print('\\nx after', x, '\\nloss after', 1-model(x))"
   ]
  },
  {
   "cell_type": "markdown",
   "metadata": {},
   "source": [
    "check if solving reliably..."
   ]
  },
  {
   "cell_type": "code",
   "execution_count": null,
   "metadata": {},
   "outputs": [],
   "source": [
    "s = z3.Solver()\n",
    "s.from_file(smtlib_problems[0])\n",
    "skoX = z3.Real('skoX')\n",
    "skoY = z3.Real('skoY')\n",
    "skoZ = z3.Real('skoZ')\n",
    "s.add(skoX == x[0].item() and skoY == x[1].item() and skoZ == x[2].item())\n",
    "s.check()"
   ]
  },
  {
   "cell_type": "markdown",
   "metadata": {},
   "source": [
    "See if you can solve problems 1-3!"
   ]
  },
  {
   "cell_type": "code",
   "execution_count": null,
   "metadata": {},
   "outputs": [],
   "source": [
    "smtlib_problems"
   ]
  },
  {
   "cell_type": "code",
   "execution_count": null,
   "metadata": {},
   "outputs": [],
   "source": []
  },
  {
   "cell_type": "code",
   "execution_count": null,
   "metadata": {},
   "outputs": [],
   "source": []
  }
 ],
 "metadata": {
  "kernelspec": {
   "display_name": "Python 3",
   "language": "python",
   "name": "python3"
  },
  "language_info": {
   "codemirror_mode": {
    "name": "ipython",
    "version": 3
   },
   "file_extension": ".py",
   "mimetype": "text/x-python",
   "name": "python",
   "nbconvert_exporter": "python",
   "pygments_lexer": "ipython3",
   "version": "3.7.6"
  }
 },
 "nbformat": 4,
 "nbformat_minor": 2
}
