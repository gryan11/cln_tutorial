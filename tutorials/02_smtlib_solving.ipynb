{
 "cells": [
  {
   "cell_type": "code",
   "execution_count": 20,
   "metadata": {},
   "outputs": [],
   "source": [
    "from pysmt.shortcuts import read_smtlib\n",
    "import z3\n",
    "from glob import glob\n",
    "\n",
    "import torch\n",
    "import cln\n",
    "import numpy as np\n",
    "import matplotlib.pyplot as plt\n",
    "\n",
    "from tqdm import trange\n",
    "import pandas as pd\n",
    "\n",
    "from cln import Parser\n"
   ]
  },
  {
   "cell_type": "markdown",
   "metadata": {},
   "source": [
    "## Sample problems:"
   ]
  },
  {
   "cell_type": "code",
   "execution_count": 2,
   "metadata": {},
   "outputs": [],
   "source": [
    "data_dir = '../data/smtlib_problems/'\n",
    "smtlib_problems = glob(data_dir+'*')"
   ]
  },
  {
   "cell_type": "code",
   "execution_count": 3,
   "metadata": {},
   "outputs": [
    {
     "data": {
      "text/plain": [
       "['../data/smtlib_problems/cbrt-problem-3-chunk-0035.smt2',\n",
       " '../data/smtlib_problems/cbrt-problem-3-chunk-0043.smt2',\n",
       " '../data/smtlib_problems/cbrt-problem-3-chunk-0071.smt2',\n",
       " '../data/smtlib_problems/cbrt-problem-3-chunk-0074.smt2']"
      ]
     },
     "execution_count": 3,
     "metadata": {},
     "output_type": "execute_result"
    }
   ],
   "source": [
    "smtlib_problems"
   ]
  },
  {
   "cell_type": "code",
   "execution_count": 4,
   "metadata": {},
   "outputs": [
    {
     "name": "stdout",
     "output_type": "stream",
     "text": [
      "(set-info :smt-lib-version 2.6)\r\n",
      "(set-logic QF_LRA)\r\n",
      "(set-info :source |\r\n",
      "These benchmarks used in the paper:\r\n",
      "\r\n",
      "  Dejan Jovanovic and Leonardo de Moura.  Solving Non-Linear Arithmetic.\r\n",
      "  In IJCAR 2012, published as LNCS volume 7364, pp. 339--354.\r\n",
      "\r\n",
      "The meti-tarski benchmarks are proof obligations extracted from the\r\n",
      "Meti-Tarski project, see:\r\n",
      "\r\n",
      "  B. Akbarpour and L. C. Paulson. MetiTarski: An automatic theorem prover\r\n",
      "  for real-valued special functions. Journal of Automated Reasoning,\r\n",
      "  44(3):175-205, 2010.\r\n",
      "\r\n",
      "Submitted by Dejan Jovanovic for SMT-LIB.\r\n",
      "\r\n",
      "\r\n",
      "|)\r\n",
      "(set-info :category \"industrial\")\r\n",
      "(set-info :status sat)\r\n",
      "(declare-fun skoZ () Real)\r\n",
      "(declare-fun skoY () Real)\r\n",
      "(declare-fun skoX () Real)\r\n",
      "(assert (and (not (<= (+ (+ 1 (* skoX (- 1))) (* skoY (- 1))) skoZ)) (and (not (<= skoZ 0)) (and (not (<= skoY 0)) (not (<= skoX 0))))))\r\n",
      "(check-sat)\r\n",
      "(get-model)\r\n",
      "(exit)\r\n"
     ]
    }
   ],
   "source": [
    "%cat {smtlib_problems[0]}"
   ]
  },
  {
   "cell_type": "markdown",
   "metadata": {},
   "source": [
    "## Solving with z3:"
   ]
  },
  {
   "cell_type": "code",
   "execution_count": 5,
   "metadata": {},
   "outputs": [],
   "source": [
    "s = z3.Solver()\n"
   ]
  },
  {
   "cell_type": "code",
   "execution_count": 6,
   "metadata": {},
   "outputs": [],
   "source": [
    "s.from_file(smtlib_problems[0])"
   ]
  },
  {
   "cell_type": "code",
   "execution_count": 7,
   "metadata": {},
   "outputs": [
    {
     "data": {
      "text/html": [
       "<b>sat</b>"
      ],
      "text/plain": [
       "sat"
      ]
     },
     "execution_count": 7,
     "metadata": {},
     "output_type": "execute_result"
    }
   ],
   "source": [
    "s.check()"
   ]
  },
  {
   "cell_type": "code",
   "execution_count": 8,
   "metadata": {},
   "outputs": [
    {
     "data": {
      "text/html": [
       "[skoX = 1/4, skoZ = 1/4, skoY = 1/4]"
      ],
      "text/plain": [
       "[skoX = 1/4, skoZ = 1/4, skoY = 1/4]"
      ]
     },
     "execution_count": 8,
     "metadata": {},
     "output_type": "execute_result"
    }
   ],
   "source": [
    "s.model()"
   ]
  },
  {
   "cell_type": "markdown",
   "metadata": {},
   "source": [
    "## Can we solve with cln?"
   ]
  },
  {
   "cell_type": "code",
   "execution_count": 9,
   "metadata": {},
   "outputs": [],
   "source": [
    "root = read_smtlib(smtlib_problems[0])"
   ]
  },
  {
   "cell_type": "code",
   "execution_count": 10,
   "metadata": {},
   "outputs": [
    {
     "data": {
      "text/plain": [
       "'((! (((1.0 + (skoX * -1.0)) + (skoY * -1.0)) <= skoZ)) & ((! (skoZ <= 0.0)) & ((! (skoY <= 0.0)) & (! (skoX <= 0.0)))))'"
      ]
     },
     "execution_count": 10,
     "metadata": {},
     "output_type": "execute_result"
    }
   ],
   "source": [
    "root.serialize()"
   ]
  },
  {
   "cell_type": "markdown",
   "metadata": {},
   "source": [
    "Generate a model for the smt:"
   ]
  },
  {
   "cell_type": "code",
   "execution_count": 11,
   "metadata": {},
   "outputs": [
    {
     "data": {
      "text/plain": [
       "tensor(0.0050)"
      ]
     },
     "execution_count": 11,
     "metadata": {},
     "output_type": "execute_result"
    }
   ],
   "source": [
    "'''\n",
    "(! (((1.0 + (skoX * -1.0)) + (skoY * -1.0)) <= skoZ)) & \n",
    "(\n",
    "    (! (skoZ <= 0.0)) & \n",
    "    (\n",
    "        (! (skoY <= 0.0)) & \n",
    "        (! (skoX <= 0.0))\n",
    "    )\n",
    ")\n",
    "'''\n",
    "\n",
    "class CLNModel(torch.nn.Module):\n",
    "    def __init__(self, B):\n",
    "        super(CLNModel, self).__init__()\n",
    "        self.B = B\n",
    "        self.eps = 0.5\n",
    "        \n",
    "    def forward(self, x):\n",
    "        B = self.B\n",
    "        eps = self.eps\n",
    "        \n",
    "        skoX = x[0]\n",
    "        skoY = x[1]\n",
    "        skoZ = x[2]\n",
    "        \n",
    "        \n",
    "        c1 = cln.neg(cln.le(((1.0 + (skoX * -1.0)) + (skoY * -1.0)) - skoZ, B, eps))\n",
    "        c2 = cln.neg(cln.le(skoZ - 0.0, B, eps))\n",
    "        c3 = cln.neg(cln.le(skoY - 0.0, B, eps))\n",
    "        c4 = cln.neg(cln.le(skoX - 0.0, B, eps))\n",
    "        \n",
    "        \n",
    "        ycln = cln.prod_tnorm([c1, c2, c3, c4])\n",
    "        return ycln\n",
    "    \n",
    "model = CLNModel(B=3)\n",
    "\n",
    "x = torch.tensor([0.0, 0.0, 0.0])\n",
    "model(x)"
   ]
  },
  {
   "cell_type": "code",
   "execution_count": 21,
   "metadata": {},
   "outputs": [
    {
     "name": "stderr",
     "output_type": "stream",
     "text": [
      "100%|██████████| 100/100 [00:00<00:00, 809.42it/s]\n"
     ]
    },
    {
     "data": {
      "text/plain": [
       "[<matplotlib.lines.Line2D at 0x12caf9410>]"
      ]
     },
     "execution_count": 21,
     "metadata": {},
     "output_type": "execute_result"
    },
    {
     "data": {
      "image/png": "[encoded data removed]",
      "text/plain": [
       "<Figure size 432x288 with 1 Axes>"
      ]
     },
     "metadata": {
      "needs_background": "light"
     },
     "output_type": "display_data"
    }
   ],
   "source": [
    "def train(x, model):\n",
    "    opt = torch.optim.Adam(params=[x] + list(model.parameters()), lr=0.01)\n",
    "    \n",
    "    loss_trace = []\n",
    "    for i in trange(100): # MORE EPOCHS\n",
    "        opt.zero_grad()\n",
    "        \n",
    "        cln_out = model(x)\n",
    "        loss = 1 - cln_out\n",
    "        \n",
    "        loss_trace.append(loss.item())\n",
    "\n",
    "        loss.backward()\n",
    "        opt.step()\n",
    "                \n",
    "    return pd.DataFrame({'loss':loss_trace})\n",
    "\n",
    "x = torch.tensor([0.0, 0.0, 0.0], requires_grad=True)\n",
    "t = train(x, model)\n",
    "plt.plot(t.loss)\n"
   ]
  },
  {
   "cell_type": "markdown",
   "metadata": {},
   "source": [
    "Check model results:"
   ]
  },
  {
   "cell_type": "code",
   "execution_count": 22,
   "metadata": {},
   "outputs": [
    {
     "data": {
      "text/plain": [
       "0.25108155608177185"
      ]
     },
     "execution_count": 22,
     "metadata": {},
     "output_type": "execute_result"
    }
   ],
   "source": [
    "x[0].item()"
   ]
  },
  {
   "cell_type": "code",
   "execution_count": 23,
   "metadata": {},
   "outputs": [],
   "source": [
    "s = z3.Solver()\n",
    "s.from_file(smtlib_problems[0])\n",
    "\n",
    "skoX = z3.Real('skoX')\n",
    "skoY = z3.Real('skoY')\n",
    "skoZ = z3.Real('skoZ')\n",
    "s.add(skoX == x[0].item() and skoY == x[1].item() and skoZ == x[2].item())"
   ]
  },
  {
   "cell_type": "code",
   "execution_count": 24,
   "metadata": {},
   "outputs": [
    {
     "data": {
      "text/html": [
       "[&not;(1 + skoX&middot;-1 + skoY&middot;-1 &le; skoZ) &and;\n",
       " &not;(skoZ &le; 0) &and;\n",
       " &not;(skoY &le; 0) &and;\n",
       " &not;(skoX &le; 0),\n",
       " skoX = 5021631121635437/20000000000000000]"
      ],
      "text/plain": [
       "[And(Not(1 + skoX*-1 + skoY*-1 <= skoZ),\n",
       "     And(Not(skoZ <= 0),\n",
       "         And(Not(skoY <= 0), Not(skoX <= 0)))),\n",
       " skoX == 5021631121635437/20000000000000000]"
      ]
     },
     "execution_count": 24,
     "metadata": {},
     "output_type": "execute_result"
    }
   ],
   "source": [
    "s"
   ]
  },
  {
   "cell_type": "code",
   "execution_count": 25,
   "metadata": {},
   "outputs": [
    {
     "data": {
      "text/html": [
       "<b>sat</b>"
      ],
      "text/plain": [
       "sat"
      ]
     },
     "execution_count": 25,
     "metadata": {},
     "output_type": "execute_result"
    }
   ],
   "source": [
    "s.check()"
   ]
  },
  {
   "cell_type": "code",
   "execution_count": 26,
   "metadata": {},
   "outputs": [
    {
     "data": {
      "text/html": [
       "[skoX = 5021631121635437/20000000000000000,\n",
       " skoZ = 4992789626121521/20000000000000000,\n",
       " skoY = 4992789626121521/20000000000000000]"
      ],
      "text/plain": [
       "[skoX = 5021631121635437/20000000000000000,\n",
       " skoZ = 4992789626121521/20000000000000000,\n",
       " skoY = 4992789626121521/20000000000000000]"
      ]
     },
     "execution_count": 26,
     "metadata": {},
     "output_type": "execute_result"
    }
   ],
   "source": [
    "s.model()"
   ]
  },
  {
   "cell_type": "markdown",
   "metadata": {},
   "source": [
    "## Solving from random initialization:\n",
    "Can we learn from random start?\n"
   ]
  },
  {
   "cell_type": "code",
   "execution_count": 30,
   "metadata": {},
   "outputs": [
    {
     "data": {
      "text/plain": [
       "tensor([-5.2681,  1.7614, -2.8222], dtype=torch.float64, requires_grad=True)"
      ]
     },
     "execution_count": 30,
     "metadata": {},
     "output_type": "execute_result"
    }
   ],
   "source": [
    "x = torch.tensor(np.random.uniform(-10, 10, (3,)), requires_grad=True)\n",
    "x"
   ]
  },
  {
   "cell_type": "code",
   "execution_count": 31,
   "metadata": {},
   "outputs": [
    {
     "name": "stderr",
     "output_type": "stream",
     "text": [
      "100%|██████████| 100/100 [00:00<00:00, 837.37it/s]"
     ]
    },
    {
     "name": "stdout",
     "output_type": "stream",
     "text": [
      "x before tensor([-5.2681,  1.7614, -2.8222], dtype=torch.float64, requires_grad=True) \n",
      "loss before tensor(1.0000, dtype=torch.float64, grad_fn=<RsubBackward1>)\n",
      "\n",
      "x after tensor([-5.2677,  1.7614, -2.8218], dtype=torch.float64, requires_grad=True) \n",
      "loss after tensor(1.0000, dtype=torch.float64, grad_fn=<RsubBackward1>)\n"
     ]
    },
    {
     "name": "stderr",
     "output_type": "stream",
     "text": [
      "\n"
     ]
    }
   ],
   "source": [
    "model = CLNModel(B=3)\n",
    "\n",
    "print('x before', x, '\\nloss before', 1-model(x))\n",
    "trace = train(x, model)\n",
    "print('\\nx after', x, '\\nloss after', 1-model(x))"
   ]
  },
  {
   "cell_type": "code",
   "execution_count": 32,
   "metadata": {},
   "outputs": [
    {
     "data": {
      "text/html": [
       "<b>unsat</b>"
      ],
      "text/plain": [
       "unsat"
      ]
     },
     "execution_count": 32,
     "metadata": {},
     "output_type": "execute_result"
    }
   ],
   "source": [
    "s = z3.Solver()\n",
    "s.from_file(smtlib_problems[0])\n",
    "skoX = z3.Real('skoX')\n",
    "skoY = z3.Real('skoY')\n",
    "skoZ = z3.Real('skoZ')\n",
    "s.add(skoX == x[0].item() and skoY == x[1].item() and skoZ == x[2].item())\n",
    "s.check()"
   ]
  },
  {
   "cell_type": "markdown",
   "metadata": {},
   "source": [
    "Clearly does not work reliably... can we do better?\n",
    "- increase learning rate\n",
    "- add decay\n",
    "- make B parameter\n",
    "- go for more epochs"
   ]
  },
  {
   "cell_type": "code",
   "execution_count": 33,
   "metadata": {},
   "outputs": [],
   "source": [
    "def improved_train(x, model):\n",
    "    opt = torch.optim.Adam(params=[x] + list(model.parameters()), lr=0.25)\n",
    "    \n",
    "    # LR DECAY\n",
    "    scheduler = torch.optim.lr_scheduler.MultiplicativeLR(opt, lambda epoch: 0.99)\n",
    "    \n",
    "    loss_trace = []\n",
    "    for i in trange(500): # MORE EPOCHS\n",
    "        opt.zero_grad()\n",
    "        \n",
    "        cln_out = model(x)\n",
    "        loss = 1 - cln_out\n",
    "        \n",
    "        loss_trace.append(loss.item())\n",
    "\n",
    "        loss.backward()\n",
    "        opt.step()\n",
    "        scheduler.step()\n",
    "                \n",
    "    return pd.DataFrame({'loss':loss_trace})"
   ]
  },
  {
   "cell_type": "code",
   "execution_count": 34,
   "metadata": {},
   "outputs": [
    {
     "name": "stderr",
     "output_type": "stream",
     "text": [
      " 35%|███▌      | 177/500 [00:00<00:00, 867.36it/s]"
     ]
    },
    {
     "name": "stdout",
     "output_type": "stream",
     "text": [
      "x before tensor([-9.2767, -7.3041,  6.8930], dtype=torch.float64, requires_grad=True) \n",
      "loss before tensor(1.0000, dtype=torch.float64, grad_fn=<RsubBackward1>)\n"
     ]
    },
    {
     "name": "stderr",
     "output_type": "stream",
     "text": [
      "100%|██████████| 500/500 [00:00<00:00, 887.63it/s]"
     ]
    },
    {
     "name": "stdout",
     "output_type": "stream",
     "text": [
      "\n",
      "x after tensor([0.2500, 0.2500, 0.2500], dtype=torch.float64, requires_grad=True) \n",
      "loss after tensor(0.3156, dtype=torch.float64, grad_fn=<RsubBackward1>)\n"
     ]
    },
    {
     "name": "stderr",
     "output_type": "stream",
     "text": [
      "\n"
     ]
    }
   ],
   "source": [
    "x = torch.tensor(np.random.uniform(-10, 10, (3,)), requires_grad=True)\n",
    "\n",
    "\n",
    "B_param = torch.nn.Parameter(torch.tensor(1.0))\n",
    "\n",
    "\n",
    "model = CLNModel(B=B_param)\n",
    "\n",
    "print('x before', x, '\\nloss before', 1-model(x))\n",
    "trace = improved_train(x, model)\n",
    "print('\\nx after', x, '\\nloss after', 1-model(x))"
   ]
  },
  {
   "cell_type": "markdown",
   "metadata": {},
   "source": [
    "check if solving reliably..."
   ]
  },
  {
   "cell_type": "code",
   "execution_count": 35,
   "metadata": {},
   "outputs": [
    {
     "data": {
      "text/html": [
       "<b>sat</b>"
      ],
      "text/plain": [
       "sat"
      ]
     },
     "execution_count": 35,
     "metadata": {},
     "output_type": "execute_result"
    }
   ],
   "source": [
    "s = z3.Solver()\n",
    "s.from_file(smtlib_problems[0])\n",
    "skoX = z3.Real('skoX')\n",
    "skoY = z3.Real('skoY')\n",
    "skoZ = z3.Real('skoZ')\n",
    "s.add(skoX == x[0].item() and skoY == x[1].item() and skoZ == x[2].item())\n",
    "s.check()"
   ]
  },
  {
   "cell_type": "markdown",
   "metadata": {},
   "source": [
    "See if you can solve problems 1-3!"
   ]
  },
  {
   "cell_type": "code",
   "execution_count": 36,
   "metadata": {},
   "outputs": [
    {
     "data": {
      "text/plain": [
       "['../data/smtlib_problems/cbrt-problem-3-chunk-0035.smt2',\n",
       " '../data/smtlib_problems/cbrt-problem-3-chunk-0043.smt2',\n",
       " '../data/smtlib_problems/cbrt-problem-3-chunk-0071.smt2',\n",
       " '../data/smtlib_problems/cbrt-problem-3-chunk-0074.smt2']"
      ]
     },
     "execution_count": 36,
     "metadata": {},
     "output_type": "execute_result"
    }
   ],
   "source": [
    "smtlib_problems"
   ]
  },
  {
   "cell_type": "code",
   "execution_count": null,
   "metadata": {},
   "outputs": [],
   "source": []
  }
 ],
 "metadata": {
  "kernelspec": {
   "display_name": "Python 3",
   "language": "python",
   "name": "python3"
  },
  "language_info": {
   "codemirror_mode": {
    "name": "ipython",
    "version": 3
   },
   "file_extension": ".py",
   "mimetype": "text/x-python",
   "name": "python",
   "nbconvert_exporter": "python",
   "pygments_lexer": "ipython3",
   "version": "3.7.6"
  }
 },
 "nbformat": 4,
 "nbformat_minor": 2
}
