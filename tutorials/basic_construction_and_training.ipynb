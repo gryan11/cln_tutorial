{
 "cells": [
  {
   "cell_type": "markdown",
   "metadata": {},
   "source": [
    "# Basic CLN Construction and Training"
   ]
  },
  {
   "cell_type": "code",
   "execution_count": 1,
   "metadata": {},
   "outputs": [],
   "source": [
    "import cln\n",
    "\n",
    "import numpy as np\n",
    "import matplotlib.pyplot as plt\n",
    "import torch"
   ]
  },
  {
   "cell_type": "code",
   "execution_count": 7,
   "metadata": {},
   "outputs": [
    {
     "name": "stderr",
     "output_type": "stream",
     "text": [
      "No handles with labels found to put in legend.\n"
     ]
    },
    {
     "data": {
      "text/plain": [
       "<matplotlib.legend.Legend at 0x120dd7ad0>"
      ]
     },
     "execution_count": 7,
     "metadata": {},
     "output_type": "execute_result"
    },
    {
     "data": {
      "image/png": "[encoded data removed]",
      "text/plain": [
       "<Figure size 432x180 with 1 Axes>"
      ]
     },
     "metadata": {
      "needs_background": "light"
     },
     "output_type": "display_data"
    }
   ],
   "source": [
    "# Can construct CLN using either functional primitives or pytorch modules\n",
    "\n",
    "# example with basic functions\n",
    "from cln import prod_tnorm, prod_tconorm, eq, le, ge\n",
    "\n",
    "\n",
    "B = 5\n",
    "eps = 0.2\n",
    "\n",
    "x = torch.tensor(np.linspace(-0.7, 5, 1001))\n",
    "ycln = prod_tconorm([eq(x - 1.0, B, eps),\n",
    "                     prod_tnorm([ge(x - 3, B, eps), \n",
    "                                 le(x - 4, B, eps)]), \n",
    "                    ge(x - 5, B, eps)])\n",
    "\n",
    "\n",
    "figsize = (6,2.5)\n",
    "linewidth = 3\n",
    "plt.figure(figsize=figsize) # SETTING\n",
    "\n",
    "# plt.plot(x, ydiscrete, 'steelblue', linewidth=2)\n",
    "plt.plot(x, ycln, 'r--', linewidth=3)\n",
    " \n",
    "plt.legend()\n",
    "plt.xlabel('x')\n",
    "plt.ylabel('Truth Value')\n",
    "plt.ylim([-0.2, 1.2])\n",
    "plt.yticks([0,1])\n",
    "\n",
    "plt.legend(['$\\mathcal{S}(F)(x)$'])"
   ]
  },
  {
   "cell_type": "code",
   "execution_count": 10,
   "metadata": {},
   "outputs": [
    {
     "name": "stderr",
     "output_type": "stream",
     "text": [
      "No handles with labels found to put in legend.\n"
     ]
    },
    {
     "data": {
      "text/plain": [
       "<matplotlib.legend.Legend at 0x120e1dcd0>"
      ]
     },
     "execution_count": 10,
     "metadata": {},
     "output_type": "execute_result"
    },
    {
     "data": {
      "image/png": "[encoded data removed]",
      "text/plain": [
       "<Figure size 432x180 with 1 Axes>"
      ]
     },
     "metadata": {
      "needs_background": "light"
     },
     "output_type": "display_data"
    }
   ],
   "source": [
    "Bdisc = 4000\n",
    "eps_disc=0.015\n",
    "\n",
    "ydiscrete = prod_tconorm([eq(x - 1.0, B=Bdisc, eps=eps_disc),\n",
    "                      prod_tnorm([ge(x - 3, Bdisc, eps_disc), \n",
    "                                 le(x - 4, Bdisc, eps_disc)]), \n",
    "                         ge(x - 5, Bdisc, eps_disc)])\n",
    "\n",
    "figsize = (6,2.5)\n",
    "linewidth = 3\n",
    "plt.figure(figsize=figsize) # SETTING\n",
    "\n",
    "plt.plot(x, ydiscrete, 'steelblue', linewidth=2)\n",
    "plt.plot(x, ycln, 'r--', linewidth=3)\n",
    " \n",
    "plt.legend()\n",
    "plt.xlabel('x')\n",
    "plt.ylabel('Truth Value')\n",
    "plt.ylim([-0.2, 1.2])\n",
    "plt.yticks([0,1])\n",
    "\n",
    "plt.legend(['$F(x)$', '$\\mathcal{S}(F)(x)$'])"
   ]
  },
  {
   "cell_type": "code",
   "execution_count": null,
   "metadata": {},
   "outputs": [],
   "source": []
  }
 ],
 "metadata": {
  "kernelspec": {
   "display_name": "Python 3",
   "language": "python",
   "name": "python3"
  },
  "language_info": {
   "codemirror_mode": {
    "name": "ipython",
    "version": 3
   },
   "file_extension": ".py",
   "mimetype": "text/x-python",
   "name": "python",
   "nbconvert_exporter": "python",
   "pygments_lexer": "ipython3",
   "version": "3.7.6"
  }
 },
 "nbformat": 4,
 "nbformat_minor": 2
}
