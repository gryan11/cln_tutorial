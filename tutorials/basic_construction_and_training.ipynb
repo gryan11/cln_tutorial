{
 "cells": [
  {
   "cell_type": "markdown",
   "metadata": {},
   "source": [
    "# Basic CLN Construction and Training"
   ]
  },
  {
   "cell_type": "code",
   "execution_count": 95,
   "metadata": {},
   "outputs": [],
   "source": [
    "import cln\n",
    "\n",
    "import numpy as np\n",
    "import matplotlib.pyplot as plt\n",
    "import torch\n",
    "from tqdm import trange\n",
    "import pandas as pd\n",
    "\n",
    "def scale(arr, max=1.0):\n",
    "    arr = np.array(arr)\n",
    "    return arr * max/arr.max()"
   ]
  },
  {
   "cell_type": "markdown",
   "metadata": {},
   "source": [
    "### CLN construction\n",
    "Illustrate with formula from slides:\n",
    "\n",
    "$(x = 1) \\lor ((x > 3) \\land (x < 4)) \\lor (x > 5)$"
   ]
  },
  {
   "cell_type": "code",
   "execution_count": 7,
   "metadata": {},
   "outputs": [
    {
     "name": "stderr",
     "output_type": "stream",
     "text": [
      "No handles with labels found to put in legend.\n"
     ]
    },
    {
     "data": {
      "text/plain": [
       "<matplotlib.legend.Legend at 0x120dd7ad0>"
      ]
     },
     "execution_count": 7,
     "metadata": {},
     "output_type": "execute_result"
    },
    {
     "data": {
      "image/png": "[encoded data removed]",
      "text/plain": [
       "<Figure size 432x180 with 1 Axes>"
      ]
     },
     "metadata": {
      "needs_background": "light"
     },
     "output_type": "display_data"
    }
   ],
   "source": [
    "# Can construct CLN using either functional primitives or pytorch modules\n",
    "\n",
    "# example with basic functions\n",
    "from cln import prod_tnorm, prod_tconorm, eq, le, ge\n",
    "\n",
    "\n",
    "B = 5\n",
    "eps = 0.2\n",
    "\n",
    "x = torch.tensor(np.linspace(-0.7, 5, 1001))\n",
    "ycln = prod_tconorm([eq(x - 1.0, B, eps),\n",
    "                     prod_tnorm([ge(x - 3, B, eps), \n",
    "                                 le(x - 4, B, eps)]), \n",
    "                    ge(x - 5, B, eps)])\n",
    "\n",
    "\n",
    "figsize = (6,2.5)\n",
    "linewidth = 3\n",
    "plt.figure(figsize=figsize) # SETTING\n",
    "\n",
    "# plt.plot(x, ydiscrete, 'steelblue', linewidth=2)\n",
    "plt.plot(x, ycln, 'r--', linewidth=3)\n",
    " \n",
    "plt.legend()\n",
    "plt.xlabel('x')\n",
    "plt.ylabel('Truth Value')\n",
    "plt.ylim([-0.2, 1.2])\n",
    "plt.yticks([0,1])\n",
    "\n",
    "plt.legend(['$\\mathcal{S}(F)(x)$'])"
   ]
  },
  {
   "cell_type": "code",
   "execution_count": 10,
   "metadata": {},
   "outputs": [
    {
     "name": "stderr",
     "output_type": "stream",
     "text": [
      "No handles with labels found to put in legend.\n"
     ]
    },
    {
     "data": {
      "text/plain": [
       "<matplotlib.legend.Legend at 0x120e1dcd0>"
      ]
     },
     "execution_count": 10,
     "metadata": {},
     "output_type": "execute_result"
    },
    {
     "data": {
      "image/png": "[encoded data removed]",
      "text/plain": [
       "<Figure size 432x180 with 1 Axes>"
      ]
     },
     "metadata": {
      "needs_background": "light"
     },
     "output_type": "display_data"
    }
   ],
   "source": [
    "Bdisc = 4000\n",
    "eps_disc=0.015\n",
    "\n",
    "ydiscrete = prod_tconorm([eq(x - 1.0, B=Bdisc, eps=eps_disc),\n",
    "                      prod_tnorm([ge(x - 3, Bdisc, eps_disc), \n",
    "                                 le(x - 4, Bdisc, eps_disc)]), \n",
    "                         ge(x - 5, Bdisc, eps_disc)])\n",
    "\n",
    "figsize = (6,2.5)\n",
    "linewidth = 3\n",
    "plt.figure(figsize=figsize) # SETTING\n",
    "\n",
    "plt.plot(x, ydiscrete, 'steelblue', linewidth=2)\n",
    "plt.plot(x, ycln, 'r--', linewidth=3)\n",
    " \n",
    "plt.legend()\n",
    "plt.xlabel('x')\n",
    "plt.ylabel('Truth Value')\n",
    "plt.ylim([-0.2, 1.2])\n",
    "plt.yticks([0,1])\n",
    "\n",
    "plt.legend(['$F(x)$', '$\\mathcal{S}(F)(x)$'])"
   ]
  },
  {
   "cell_type": "markdown",
   "metadata": {},
   "source": [
    "### Solving with Functional API:"
   ]
  },
  {
   "cell_type": "code",
   "execution_count": 58,
   "metadata": {},
   "outputs": [
    {
     "name": "stdout",
     "output_type": "stream",
     "text": [
      "tensor(2., requires_grad=True) tensor(0.1459, grad_fn=<SubBackward0>)\n"
     ]
    }
   ],
   "source": [
    "# define model using cln functional API:\n",
    "\n",
    "class CLNModel(torch.nn.Module):\n",
    "    def __init__(self, B):\n",
    "        super(CLNModel, self).__init__()\n",
    "        self.B = B\n",
    "        self.eps = 0.5\n",
    "        \n",
    "    def forward(self, x):\n",
    "        B = self.B\n",
    "        eps = self.eps\n",
    "        \n",
    "        ycln = prod_tconorm([eq(x - 1, B, eps),\n",
    "                     prod_tnorm([ge(x - 3, B, eps), \n",
    "                                 le(x - 4, B, eps)]), \n",
    "                    ge(x - 5, B, eps)])\n",
    "        return ycln\n",
    "    \n",
    "    \n",
    "x = torch.tensor(2.0, requires_grad=True)\n",
    "\n",
    "model = CLNModel(B=5.0)\n",
    "\n",
    "out = model(x)\n",
    "print(x, out)"
   ]
  },
  {
   "cell_type": "markdown",
   "metadata": {},
   "source": [
    "Lowering B increases smoothing:"
   ]
  },
  {
   "cell_type": "code",
   "execution_count": 60,
   "metadata": {},
   "outputs": [
    {
     "name": "stdout",
     "output_type": "stream",
     "text": [
      "tensor(2., requires_grad=True) tensor(0.4585, grad_fn=<SubBackward0>)\n"
     ]
    }
   ],
   "source": [
    "# try lowering B:\n",
    "model = CLNModel(B=2.0)\n",
    "\n",
    "out = model(x)\n",
    "print(x, out)"
   ]
  },
  {
   "cell_type": "code",
   "execution_count": 64,
   "metadata": {},
   "outputs": [
    {
     "name": "stdout",
     "output_type": "stream",
     "text": [
      "tensor(2., requires_grad=True) tensor(0.6397, grad_fn=<SubBackward0>)\n"
     ]
    }
   ],
   "source": [
    "model = CLNModel(B=0.5)\n",
    "\n",
    "out = model(x)\n",
    "print(x, out)"
   ]
  },
  {
   "cell_type": "markdown",
   "metadata": {},
   "source": [
    "Now find solution using model:"
   ]
  },
  {
   "cell_type": "code",
   "execution_count": 78,
   "metadata": {},
   "outputs": [
    {
     "name": "stderr",
     "output_type": "stream",
     "text": [
      "100%|██████████| 100/100 [00:00<00:00, 1111.73it/s]"
     ]
    },
    {
     "name": "stdout",
     "output_type": "stream",
     "text": [
      "x before tensor(2., requires_grad=True) \n",
      "loss before tensor(0.6698, grad_fn=<RsubBackward1>)\n",
      "\n",
      "x after tensor(3.5235, requires_grad=True) \n",
      "loss after tensor(0.0879, grad_fn=<RsubBackward1>)\n"
     ]
    },
    {
     "name": "stderr",
     "output_type": "stream",
     "text": [
      "\n"
     ]
    }
   ],
   "source": [
    "def train(x, model):\n",
    "    opt = torch.optim.Adam(params=[x] + list(model.parameters()), lr=0.1)\n",
    "    \n",
    "    x_trace = []\n",
    "    loss_trace = []\n",
    "    for i in trange(100):\n",
    "        opt.zero_grad()\n",
    "        \n",
    "        cln_out = model(x)\n",
    "        loss = 1 - cln_out\n",
    "        \n",
    "        loss_trace.append(loss.item())\n",
    "        x_trace.append(x.item())\n",
    "\n",
    "        loss.backward()\n",
    "        opt.step()\n",
    "                \n",
    "    return pd.DataFrame({'loss':loss_trace, 'x':x_trace})\n",
    "    \n",
    "    \n",
    "\n",
    "x = torch.tensor(2.0, requires_grad=True)\n",
    "model = CLNModel(B=3.0)\n",
    "\n",
    "print('x before', x, '\\nloss before', 1-model(x))\n",
    "trace = train(x, model)\n",
    "print('\\nx after', x, '\\nloss after', 1-model(x))\n",
    "\n",
    "\n",
    "\n"
   ]
  },
  {
   "cell_type": "code",
   "execution_count": 80,
   "metadata": {},
   "outputs": [
    {
     "data": {
      "text/plain": [
       "<matplotlib.legend.Legend at 0x126302fd0>"
      ]
     },
     "execution_count": 80,
     "metadata": {},
     "output_type": "execute_result"
    },
    {
     "data": {
      "image/png": "[encoded data removed]",
      "text/plain": [
       "<Figure size 864x288 with 2 Axes>"
      ]
     },
     "metadata": {
      "needs_background": "light"
     },
     "output_type": "display_data"
    }
   ],
   "source": [
    "# can plot to see what's going on\n",
    "plt.figure(figsize=(12,4))\n",
    "plt.subplot(1,2,1)\n",
    "plt.plot(trace.x, 'r--', linewidth=2)\n",
    "plt.legend(['x', 'B'])\n",
    "plt.subplot(1,2,2)\n",
    "plt.plot(trace.loss, linewidth=2)\n",
    "plt.legend(['loss'])"
   ]
  },
  {
   "cell_type": "markdown",
   "metadata": {},
   "source": [
    "Works well with this B value, but what if we lower it to increase smoothing?"
   ]
  },
  {
   "cell_type": "code",
   "execution_count": 81,
   "metadata": {},
   "outputs": [
    {
     "name": "stderr",
     "output_type": "stream",
     "text": [
      "100%|██████████| 100/100 [00:00<00:00, 1165.27it/s]"
     ]
    },
    {
     "name": "stdout",
     "output_type": "stream",
     "text": [
      "x before tensor(2., requires_grad=True) \n",
      "loss before tensor(0.3603, grad_fn=<RsubBackward1>)\n",
      "\n",
      "x after tensor(11.2084, requires_grad=True) \n",
      "loss after tensor(0.0324, grad_fn=<RsubBackward1>)\n"
     ]
    },
    {
     "name": "stderr",
     "output_type": "stream",
     "text": [
      "\n"
     ]
    }
   ],
   "source": [
    "x = torch.tensor(2.0, requires_grad=True)\n",
    "model = CLNModel(B=0.5)\n",
    "\n",
    "print('x before', x, '\\nloss before', 1-model(x))\n",
    "trace = train(x, model)\n",
    "print('\\nx after', x, '\\nloss after', 1-model(x))"
   ]
  },
  {
   "cell_type": "code",
   "execution_count": 82,
   "metadata": {},
   "outputs": [
    {
     "data": {
      "text/plain": [
       "<matplotlib.legend.Legend at 0x126496850>"
      ]
     },
     "execution_count": 82,
     "metadata": {},
     "output_type": "execute_result"
    },
    {
     "data": {
      "image/png": "[encoded data removed]",
      "text/plain": [
       "<Figure size 864x288 with 2 Axes>"
      ]
     },
     "metadata": {
      "needs_background": "light"
     },
     "output_type": "display_data"
    }
   ],
   "source": [
    "plt.figure(figsize=(12,4))\n",
    "plt.subplot(1,2,1)\n",
    "plt.plot(trace.x, 'r--', linewidth=2)\n",
    "plt.legend(['x', 'B'])\n",
    "plt.subplot(1,2,2)\n",
    "plt.plot(trace.loss, linewidth=2)\n",
    "plt.legend(['loss'])"
   ]
  },
  {
   "cell_type": "markdown",
   "metadata": {},
   "source": [
    "clearly too low B doesn't work, what if we increase to improve precision?"
   ]
  },
  {
   "cell_type": "code",
   "execution_count": 85,
   "metadata": {},
   "outputs": [
    {
     "name": "stderr",
     "output_type": "stream",
     "text": [
      "100%|██████████| 100/100 [00:00<00:00, 1059.74it/s]"
     ]
    },
    {
     "name": "stdout",
     "output_type": "stream",
     "text": [
      "x before tensor(2., requires_grad=True) \n",
      "loss before tensor(1., grad_fn=<RsubBackward1>)\n",
      "\n",
      "x after tensor(2., requires_grad=True) \n",
      "loss after tensor(1., grad_fn=<RsubBackward1>)\n"
     ]
    },
    {
     "name": "stderr",
     "output_type": "stream",
     "text": [
      "\n"
     ]
    }
   ],
   "source": [
    "x = torch.tensor(2.0, requires_grad=True)\n",
    "model = CLNModel(B=100.0)\n",
    "\n",
    "print('x before', x, '\\nloss before', 1-model(x))\n",
    "trace = train(x, model)\n",
    "print('\\nx after', x, '\\nloss after', 1-model(x))"
   ]
  },
  {
   "cell_type": "code",
   "execution_count": 86,
   "metadata": {},
   "outputs": [
    {
     "data": {
      "text/plain": [
       "<matplotlib.legend.Legend at 0x126628cd0>"
      ]
     },
     "execution_count": 86,
     "metadata": {},
     "output_type": "execute_result"
    },
    {
     "data": {
      "image/png": "[encoded data removed]",
      "text/plain": [
       "<Figure size 864x288 with 2 Axes>"
      ]
     },
     "metadata": {
      "needs_background": "light"
     },
     "output_type": "display_data"
    }
   ],
   "source": [
    "plt.figure(figsize=(12,4))\n",
    "plt.subplot(1,2,1)\n",
    "plt.plot(trace.x, 'r--', linewidth=2)\n",
    "plt.legend(['x', 'B'])\n",
    "plt.subplot(1,2,2)\n",
    "plt.plot(trace.loss, linewidth=2)\n",
    "plt.legend(['loss'])"
   ]
  },
  {
   "cell_type": "code",
   "execution_count": 87,
   "metadata": {},
   "outputs": [
    {
     "data": {
      "text/plain": [
       "tensor(-1.9287e-20)"
      ]
     },
     "execution_count": 87,
     "metadata": {},
     "output_type": "execute_result"
    }
   ],
   "source": [
    "# the gradient is nearly 0!\n",
    "x.grad"
   ]
  },
  {
   "cell_type": "markdown",
   "metadata": {},
   "source": [
    "### Training with learnable B params\n",
    "Use gradients to pick B"
   ]
  },
  {
   "cell_type": "code",
   "execution_count": 96,
   "metadata": {},
   "outputs": [
    {
     "name": "stderr",
     "output_type": "stream",
     "text": [
      "100%|██████████| 100/100 [00:00<00:00, 1037.12it/s]"
     ]
    },
    {
     "name": "stdout",
     "output_type": "stream",
     "text": [
      "x before tensor(2., requires_grad=True)\n",
      "x after tensor(3.4892, requires_grad=True)\n"
     ]
    },
    {
     "name": "stderr",
     "output_type": "stream",
     "text": [
      "\n"
     ]
    },
    {
     "data": {
      "text/plain": [
       "<matplotlib.legend.Legend at 0x127026d10>"
      ]
     },
     "execution_count": 96,
     "metadata": {},
     "output_type": "execute_result"
    },
    {
     "data": {
      "image/png": "[encoded data removed]",
      "text/plain": [
       "<Figure size 864x288 with 2 Axes>"
      ]
     },
     "metadata": {
      "needs_background": "light"
     },
     "output_type": "display_data"
    }
   ],
   "source": [
    "def train(x, model):\n",
    "    opt = torch.optim.Adam(params=[x] + list(model.parameters()), lr=0.1)\n",
    "    \n",
    "    x_trace = []\n",
    "    loss_trace = []\n",
    "    B_trace = []\n",
    "    for i in trange(100):\n",
    "        opt.zero_grad()\n",
    "        \n",
    "        cln_out = model(x)\n",
    "        loss = 1 - cln_out\n",
    "        \n",
    "        loss_trace.append(loss.item())\n",
    "        x_trace.append(x.item())\n",
    "        B_trace.append(model.B.item())\n",
    "\n",
    "        loss.backward()\n",
    "        opt.step()\n",
    "        \n",
    "        model.B.data.clamp_(min=0.5) # Make sure to clamp B!\n",
    "        \n",
    "    return pd.DataFrame({'loss':loss_trace, 'x':x_trace, 'B': B_trace})\n",
    "\n",
    "x = torch.tensor(2.0, requires_grad=True)\n",
    "\n",
    "model = CLNModel(B=torch.nn.Parameter(torch.tensor(3.0))) # set B to parameter\n",
    "\n",
    "print('x before', x)\n",
    "trace = train(x, model)\n",
    "print('x after', x)\n",
    "\n",
    "\n",
    "\n",
    "plt.figure(figsize=(12,4))\n",
    "plt.subplot(1,2,1)\n",
    "plt.plot(trace.x, 'r--',linewidth=2)\n",
    "plt.plot(trace.B, 'orange',linewidth=2)\n",
    "plt.legend(['x', 'B'])\n",
    "plt.subplot(1,2,2)\n",
    "plt.plot(trace.loss, linewidth=2)\n",
    "plt.legend(['loss'])"
   ]
  },
  {
   "cell_type": "code",
   "execution_count": null,
   "metadata": {},
   "outputs": [],
   "source": []
  }
 ],
 "metadata": {
  "kernelspec": {
   "display_name": "Python 3",
   "language": "python",
   "name": "python3"
  },
  "language_info": {
   "codemirror_mode": {
    "name": "ipython",
    "version": 3
   },
   "file_extension": ".py",
   "mimetype": "text/x-python",
   "name": "python",
   "nbconvert_exporter": "python",
   "pygments_lexer": "ipython3",
   "version": "3.7.6"
  }
 },
 "nbformat": 4,
 "nbformat_minor": 2
}
